{
 "cells": [
  {
   "cell_type": "markdown",
   "metadata": {},
   "source": [
    "# Bài tập 1\n",
    "\n",
    "Đặng Hồng Minh - 1712096"
   ]
  },
  {
   "cell_type": "markdown",
   "metadata": {},
   "source": [
    "## Câu 1 (1 điểm)"
   ]
  },
  {
   "cell_type": "markdown",
   "metadata": {
    "deletable": false,
    "nbgrader": {
     "cell_type": "markdown",
     "checksum": "2e83d862b3c5fd4fb57d72c50e8115f8",
     "grade": true,
     "grade_id": "c1",
     "locked": false,
     "points": 1,
     "schema_version": 3,
     "solution": true,
     "task": false
    }
   },
   "source": [
    "* i) Không học - Vì máy không học từ dữ liệu. Nó đang sử dụng các thuật toán để xác định các đồng tiền.\n",
    "* ii) Học tập có giám sát - Vì máy đang được dán nhãn tiền. Đó là một tập huấn luyện được trao cho máy có đầu vào và đầu ra của dữ liệu.\n",
    "* iii) Học tăng cường - Vì máy tính chỉ học được từ những phần thưởng mà nó nhận được sau mỗi lần di chuyển\n",
    "### Do đó em chọn đáp án [d] (i) Not learning, (ii) Supervised Learning, (iii) Reinforcement Learning"
   ]
  },
  {
   "cell_type": "markdown",
   "metadata": {
    "heading_collapsed": true
   },
   "source": [
    "## Câu 2 (1 điểm)"
   ]
  },
  {
   "cell_type": "markdown",
   "metadata": {
    "deletable": false,
    "hidden": true,
    "nbgrader": {
     "cell_type": "markdown",
     "checksum": "47d4e2bb3e4812ef7b37e032a898cfec",
     "grade": true,
     "grade_id": "c2",
     "locked": false,
     "points": 1,
     "schema_version": 3,
     "solution": true,
     "task": false
    }
   },
   "source": [
    "* Học được dùng khi:\n",
    "    * Tồn tại một mô hình\n",
    "    * Không thể giải bài toán với những công thức toán học\n",
    "    * Có dữ liệu về đối tượng\n",
    "* (i) và (iii) chúng ta có thể dùng các công thức toán học để giải bài toán, (ii) và (iv) tồn tại mô hình cho chúng, không thể dùng các công thức toán học để áp dụng, có dữ liệu cho chúng\n",
    "### Do đó em chọn đáp án [a] (ii) and (iv)"
   ]
  },
  {
   "cell_type": "markdown",
   "metadata": {
    "heading_collapsed": true
   },
   "source": [
    "## Câu 3 (1 điểm)"
   ]
  },
  {
   "cell_type": "markdown",
   "metadata": {
    "deletable": false,
    "hidden": true,
    "nbgrader": {
     "cell_type": "markdown",
     "checksum": "0997a909d9ab1f250c2bfd0645fee970",
     "grade": true,
     "grade_id": "c3",
     "locked": false,
     "points": 1,
     "schema_version": 3,
     "solution": true,
     "task": false
    }
   },
   "source": [
    "* Gọi A là biến cố bóng lấy ra đầu tiên là màu đen\n",
    "* Gọi B là biến cố bóng lấy ra lầ hai là màu đen\n",
    "* Xác suất chọn 1 trong 2 túi là $\\frac{1}{2}$, nếu ta chọn túi 2 bóng màu đen thì xác suất là bóng đen là 1 và nếu ta chọn túi hỗn hợp thì xác suất ra bóng đen là $\\frac{1}{2}$, suy ra xác suất cho biến cố A là:\n",
    "$$P(A)=1*\\frac{1}{2}+\\frac{1}{2}*\\frac{1}{2}=\\frac{3}{4}$$\n",
    "* Xác suất biến cố B:\n",
    "$$P(B)=1*\\frac{1}{2}=\\frac{1}{2}$$\n",
    "* Nếu chúng ta chọn túi có hai bóng đen thì xác suất chúng ta chọn bóng đen là 100%:\n",
    "$$ P(A|B) = 1$$\n",
    "* Theo định lý Bayes ta có:\n",
    "$$P(B|A)=P(A|B)*P(B)/P(A)=\\frac{1*\\frac{1}{2}}{\\frac{3}{4}}=\\frac{2}{3}$$\n",
    "### Vậy em chọn câu [d] 2/3"
   ]
  },
  {
   "cell_type": "markdown",
   "metadata": {
    "heading_collapsed": true
   },
   "source": [
    "## Câu 4 (1 điểm)"
   ]
  },
  {
   "cell_type": "markdown",
   "metadata": {
    "deletable": false,
    "hidden": true,
    "nbgrader": {
     "cell_type": "markdown",
     "checksum": "efabab5c4035a6864ac8cb3e0061c6f0",
     "grade": true,
     "grade_id": "c4",
     "locked": false,
     "points": 1,
     "schema_version": 3,
     "solution": true,
     "task": false
    }
   },
   "source": [
    "* Với mẫu 10, rút ra có hoàn lại, xác suất không có bi đỏ là $$p=(1-0.55)^{10} = 0.45^{10}\\approx 3.405*10^{-4}$$\n",
    "### Vậy em chọn câu [b] 3.405 x $10^{-4}$"
   ]
  },
  {
   "cell_type": "markdown",
   "metadata": {
    "heading_collapsed": true
   },
   "source": [
    "## Câu 5 (1 điểm)"
   ]
  },
  {
   "cell_type": "markdown",
   "metadata": {
    "deletable": false,
    "hidden": true,
    "nbgrader": {
     "cell_type": "markdown",
     "checksum": "0b484b8390bec96142e8a1213ee8cd2c",
     "grade": true,
     "grade_id": "c5",
     "locked": false,
     "points": 1,
     "schema_version": 3,
     "solution": true,
     "task": false
    }
   },
   "source": [
    "* Gọi A là biến cố bi rút ra không phải đỏ. Trong mọi trường hợp xác suất là A không xảy ra là $1-p$\n",
    "* Nếu cho ta thực hiện 1000 lần thì xác suất A không bao giờ xảy ra là $(1-p)^{10000}$\n",
    "* Vậy xác suất A xảy ra ít nhất 1 lần là $$1-(1-p)^{1000}=1-(1-0.45^{10})^{1000}\\approx0.289$$\n",
    "### Vậy em chọn câu [c] 0.289"
   ]
  },
  {
   "cell_type": "markdown",
   "metadata": {
    "heading_collapsed": true
   },
   "source": [
    "## Câu 6 (1 điểm)"
   ]
  },
  {
   "cell_type": "markdown",
   "metadata": {
    "deletable": false,
    "hidden": true,
    "nbgrader": {
     "cell_type": "markdown",
     "checksum": "26f542221236fb24d0ddbee584eed7d0",
     "grade": true,
     "grade_id": "c6",
     "locked": false,
     "points": 1,
     "schema_version": 3,
     "solution": true,
     "task": false
    }
   },
   "source": [
    "| x | f1 | f2 | f3 | f4 | f5 | f6 | f7 | f8 |\n",
    "| - | - | - | - | - | - | - | - | - |\n",
    "| 101 | 0 | 0 | 0 | 1 | 0 | 1 | 1 | 1 |\n",
    "| 110 | 0 | 0 | 1 | 0 | 1 | 0 | 1 | 1 |\n",
    "| 111 | 0 | 1 | 0 | 0 | 1 | 1 | 0 | 1 |\n",
    "\n",
    "* a) g trả về 1 cho 3 điểm x\n",
    "\n",
    "| x | g |\n",
    "| - | - |\n",
    "| 101 | 1 |\n",
    "| 110 | 1 |\n",
    "| 111 | 1 |\n",
    "\n",
    "$\\Rightarrow score = 0 + 1 + 1 + 1 + 2 + 2 + 2 + 3 = 12$ điểm\n",
    "\n",
    "* b) g trả về 0 cho 3 điểm x\n",
    "\n",
    "| x | g |\n",
    "| - | - |\n",
    "| 101 | 0 |\n",
    "| 110 | 0 |\n",
    "| 111 | 0 |\n",
    "\n",
    "$\\Rightarrow score = 3 + 2 + 2 + 2 + 1 + 1 + 1 + 0 = 12$ điểm\n",
    "\n",
    "* c) g là hàm XOR theo x, nếu số lượng số 1 lẻ trả về 1, chẳn trả về 0\n",
    "\n",
    "| x | g |\n",
    "| - | - |\n",
    "| 101 | 0 |\n",
    "| 110 | 0 |\n",
    "| 111 | 1 |\n",
    "\n",
    "$\\Rightarrow score = 2 + 3 + 1 + 1 + 2 + 2 + 0 + 1 = 12$ điểm\n",
    "\n",
    "* d) g là nghịch đảo của hàm XOR, nếu số lượng số 1 lẻ trả về 0, chẳn trả về 1\n",
    "\n",
    "| x | g |\n",
    "| - | - |\n",
    "| 101 | 1 |\n",
    "| 110 | 1 |\n",
    "| 111 | 0 |\n",
    "\n",
    "$\\Rightarrow score = 1 + 0 + 2 + 2 + 1 + 1 + 3 + 2 = 12$ điểm\n",
    "\n",
    "### Vậy em chọn câu [e] They are all equivalent (equal scores for g in [a] through [d])."
   ]
  },
  {
   "cell_type": "markdown",
   "metadata": {
    "heading_collapsed": true
   },
   "source": [
    "## Câu 7 (1 điểm)"
   ]
  },
  {
   "cell_type": "code",
   "execution_count": 1,
   "metadata": {
    "deletable": false,
    "hidden": true,
    "nbgrader": {
     "cell_type": "markdown",
     "checksum": "322a244b0fae3a20ec568a5099aaaec1",
     "grade": true,
     "grade_id": "c7",
     "locked": false,
     "points": 1,
     "schema_version": 3,
     "solution": true,
     "task": false
    }
   },
   "outputs": [],
   "source": [
    "import numpy as np"
   ]
  },
  {
   "cell_type": "code",
   "execution_count": 2,
   "metadata": {},
   "outputs": [],
   "source": [
    "def generate_target_w():\n",
    "    \"\"\"\n",
    "    Generates target_w (the vector of parameters of f) \n",
    "    from two random, uniformly distributed points in [-1, 1] x [-1, 1].\n",
    "    \n",
    "    Returns\n",
    "    -------\n",
    "    target_w : numpy array, shape (3, 1) \n",
    "        The vector of parameters of f.\n",
    "    \"\"\"\n",
    "    # Generate two points from a uniform distribution over [-1, 1]x[-1, 1]\n",
    "    p1 = np.random.uniform(-1, 1, 2)\n",
    "    p2 = np.random.uniform(-1, 1, 2)\n",
    "    # Compute the target W from these two points\n",
    "    target_w = np.array([p1[1]*p2[0] - p1[0]*p2[1], p2[1] - p1[1], p1[0] - p2[0]]).reshape((-1, 1))\n",
    "    \n",
    "    return target_w"
   ]
  },
  {
   "cell_type": "code",
   "execution_count": 3,
   "metadata": {},
   "outputs": [],
   "source": [
    "def generate_data(N, target_w):\n",
    "    \"\"\"\n",
    "    Generates a data set by generating random inputs and then using target_w to generate the \n",
    "    corresponding outputs.\n",
    "    \n",
    "    Parameters\n",
    "    ----------\n",
    "    N : int\n",
    "        The number of examples.\n",
    "    target_w : numpy array, shape (3, 1) \n",
    "        The vector of parameters of f.\n",
    "    \n",
    "    Returns\n",
    "    -------\n",
    "    X : numpy array, shape (N, 3)\n",
    "        The matrix of input vectors (each row corresponds to an input vector); the first column of \n",
    "        this matrix is all ones.\n",
    "    Y : numpy array, shape (N, 1)\n",
    "        The vector of outputs.        \n",
    "    \"\"\"\n",
    "    bad_data = True # `bad_data = True` means: data contain points on the target line \n",
    "                    # (this rarely happens, but just to be careful)\n",
    "                    # -> y's of these points = 0 (with np.sign); \n",
    "                    #    we don't want this (y's of data must be -1 or 1)\n",
    "                    # -> re-generate data until `bad_data = False`\n",
    "    \n",
    "    while bad_data == True:\n",
    "        X = np.random.uniform(-1, 1, (N, 2))\n",
    "        X = np.hstack((np.ones((N, 1)), X)) # Add 'ones' column\n",
    "        Y = np.sign(np.dot(X, target_w))\n",
    "        if (0 not in Y): # Good data\n",
    "            bad_data = False\n",
    "    \n",
    "    return X, Y"
   ]
  },
  {
   "cell_type": "code",
   "execution_count": 4,
   "metadata": {},
   "outputs": [],
   "source": [
    "def run_PLA(X, Y):\n",
    "    \"\"\"\n",
    "    Runs PLA.\n",
    "    \n",
    "    Parameters\n",
    "    ----------\n",
    "    X : numpy array, shape (N, 3)\n",
    "        The matrix of input vectors (each row corresponds to an input vector); the first column of \n",
    "        this matrix is all ones.\n",
    "    Y : numpy array, shape (N, 1)\n",
    "        The vector of outputs.\n",
    "    \n",
    "    Returns\n",
    "    -------\n",
    "    w : numpy array, shape (3, 1) \n",
    "        The vector of parameters of g.\n",
    "    num_iterations : int\n",
    "        The number of iterations PLA takes to converge.\n",
    "    \"\"\"\n",
    "    w = np.zeros((X.shape[1], 1)) # Init w\n",
    "    iteration = 0\n",
    "    # TODO\n",
    "    n = X.shape[0]\n",
    "    while True:\n",
    "        for i in range(n):\n",
    "            g = np.sign(np.dot(X[i],w))\n",
    "            if (g != Y[i]):\n",
    "                iteration+=1\n",
    "                w = w + (Y[i]*X[i]).reshape((3,1))\n",
    "        g = np.sign(np.dot(X,w))\n",
    "        if (np.array_equal(g, Y)):\n",
    "            break\n",
    "        \n",
    "    return w, iteration"
   ]
  },
  {
   "cell_type": "code",
   "execution_count": 5,
   "metadata": {},
   "outputs": [],
   "source": [
    "def main(N): # You don't have to name this function \"main\", you can use other names\n",
    "    \"\"\"\n",
    "    Parameters\n",
    "    ----------\n",
    "    N : int\n",
    "        The number of training examples.\n",
    "    \"\"\"\n",
    "    num_runs = 1000\n",
    "    avg_num_iterations = 0.0 # The average number of iterations PLA takes to converge\n",
    "    avg_test_err = 0.0 # The average test error of g - the final hypothesis picked by PLA\n",
    "    \n",
    "    for r in range(num_runs):\n",
    "        # Generate target_w\n",
    "        target_w = generate_target_w()\n",
    "        \n",
    "        # Generate training set\n",
    "        X, Y = generate_data(N, target_w)\n",
    "        \n",
    "        # Run PLA to pick g\n",
    "        w, num_iterations = run_PLA(X, Y)\n",
    "        \n",
    "        # Generate test set\n",
    "        X_test, Y_test = generate_data(10000, target_w)\n",
    "        \n",
    "        # Test g\n",
    "        test_err = np.mean(np.sign(np.dot(X_test, w)) != Y_test)\n",
    "        \n",
    "        # Update average values\n",
    "        avg_num_iterations += (num_iterations * 1.0 / num_runs)\n",
    "        avg_test_err += (test_err * 1.0 / num_runs)\n",
    "    \n",
    "    # Print results\n",
    "    print('avg_num_iterations = %f' % (avg_num_iterations))\n",
    "    print('avg_test_err = %f' % (avg_test_err))"
   ]
  },
  {
   "cell_type": "code",
   "execution_count": 6,
   "metadata": {},
   "outputs": [
    {
     "name": "stdout",
     "output_type": "stream",
     "text": [
      "avg_num_iterations = 10.327000\n",
      "avg_test_err = 0.108707\n"
     ]
    }
   ],
   "source": [
    "# Run to find out answers for question 7 & 8! \n",
    "main(N=10) # We can use `main(10)`, but `main(N=10)` is clearer"
   ]
  },
  {
   "cell_type": "markdown",
   "metadata": {},
   "source": [
    "### Vậy em chọn [b] 15"
   ]
  },
  {
   "cell_type": "markdown",
   "metadata": {
    "heading_collapsed": true
   },
   "source": [
    "## Câu 8 (1 điểm)"
   ]
  },
  {
   "cell_type": "markdown",
   "metadata": {
    "deletable": false,
    "hidden": true,
    "nbgrader": {
     "cell_type": "markdown",
     "checksum": "d81773f072cd15e4a27b6cd240a5d990",
     "grade": true,
     "grade_id": "c8",
     "locked": false,
     "points": 1,
     "schema_version": 3,
     "solution": true,
     "task": false
    }
   },
   "source": [
    "### Em chọn [c] 0.1"
   ]
  },
  {
   "cell_type": "markdown",
   "metadata": {
    "heading_collapsed": true
   },
   "source": [
    "## Câu 9 (1 điểm)"
   ]
  },
  {
   "cell_type": "code",
   "execution_count": 7,
   "metadata": {
    "deletable": false,
    "hidden": true,
    "nbgrader": {
     "cell_type": "markdown",
     "checksum": "e814a2db0b8a53e4fddfee4bcbf405fc",
     "grade": true,
     "grade_id": "c9",
     "locked": false,
     "points": 1,
     "schema_version": 3,
     "solution": true,
     "task": false
    }
   },
   "outputs": [
    {
     "name": "stdout",
     "output_type": "stream",
     "text": [
      "avg_num_iterations = 149.580000\n",
      "avg_test_err = 0.013129\n"
     ]
    }
   ],
   "source": [
    "# Question 9 & 10\n",
    "main(N=100)"
   ]
  },
  {
   "cell_type": "markdown",
   "metadata": {},
   "source": [
    "### Em chọn [b] 100"
   ]
  },
  {
   "cell_type": "markdown",
   "metadata": {},
   "source": [
    "## Câu 10 (1 điểm)"
   ]
  },
  {
   "cell_type": "markdown",
   "metadata": {
    "deletable": false,
    "nbgrader": {
     "cell_type": "markdown",
     "checksum": "41cbf5c6d2b94eeae0a712be2181fef6",
     "grade": true,
     "grade_id": "c10",
     "locked": false,
     "points": 1,
     "schema_version": 3,
     "solution": true,
     "task": false
    }
   },
   "source": [
    "### Em chọn [b] 0.01"
   ]
  }
 ],
 "metadata": {
  "kernelspec": {
   "display_name": "Python 3",
   "language": "python",
   "name": "python3"
  },
  "language_info": {
   "codemirror_mode": {
    "name": "ipython",
    "version": 3
   },
   "file_extension": ".py",
   "mimetype": "text/x-python",
   "name": "python",
   "nbconvert_exporter": "python",
   "pygments_lexer": "ipython3",
   "version": "3.7.4"
  },
  "toc": {
   "base_numbering": 1,
   "nav_menu": {},
   "number_sections": true,
   "sideBar": true,
   "skip_h1_title": false,
   "title_cell": "Table of Contents",
   "title_sidebar": "Contents",
   "toc_cell": false,
   "toc_position": {},
   "toc_section_display": true,
   "toc_window_display": false
  },
  "varInspector": {
   "cols": {
    "lenName": 16,
    "lenType": 16,
    "lenVar": 40
   },
   "kernels_config": {
    "python": {
     "delete_cmd_postfix": "",
     "delete_cmd_prefix": "del ",
     "library": "var_list.py",
     "varRefreshCmd": "print(var_dic_list())"
    },
    "r": {
     "delete_cmd_postfix": ") ",
     "delete_cmd_prefix": "rm(",
     "library": "var_list.r",
     "varRefreshCmd": "cat(var_dic_list()) "
    }
   },
   "types_to_exclude": [
    "module",
    "function",
    "builtin_function_or_method",
    "instance",
    "_Feature"
   ],
   "window_display": false
  }
 },
 "nbformat": 4,
 "nbformat_minor": 4
}
