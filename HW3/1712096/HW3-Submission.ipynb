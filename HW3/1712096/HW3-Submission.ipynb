{
 "cells": [
  {
   "cell_type": "markdown",
   "metadata": {},
   "source": [
    "# Bài tập 3\n",
    "\n",
    "Đặng Hồng Minh - 1712096"
   ]
  },
  {
   "cell_type": "markdown",
   "metadata": {},
   "source": [
    "## Câu 1 (1 điểm)"
   ]
  },
  {
   "cell_type": "markdown",
   "metadata": {},
   "source": [
    "Theo đề bài cần tính \n",
    "$$2Me^{-2\\epsilon^2N}\\le 0.03$$\n",
    "$\\Rightarrow 2Me^{-2\\times0.05^2N}\\le0.03$\n",
    "\n",
    "$\\Leftrightarrow 2\\times0.05^2N\\ge -\\ln{\\frac{0.03}{2M}}$\n",
    "\n",
    "$\\Leftrightarrow N\\ge-\\frac{\\ln{\\frac{0.03}{2M}}}{2\\times0.05^2}$"
   ]
  },
  {
   "cell_type": "code",
   "execution_count": 1,
   "metadata": {},
   "outputs": [],
   "source": [
    "import numpy as np\n",
    "from math import log"
   ]
  },
  {
   "cell_type": "code",
   "execution_count": 2,
   "metadata": {},
   "outputs": [
    {
     "data": {
      "text/plain": [
       "839.9410155759853"
      ]
     },
     "execution_count": 2,
     "metadata": {},
     "output_type": "execute_result"
    }
   ],
   "source": [
    "#Hàm tính chặn dưới N theo M\n",
    "def Lower_bound_of_N(M):\n",
    "    return -log(0.03/(2*M))/(2*0.05**2)\n",
    "\n",
    "Lower_bound_of_N(1)"
   ]
  },
  {
   "cell_type": "markdown",
   "metadata": {},
   "source": [
    "Ta thấy kết quả ở trên gần với 1000"
   ]
  },
  {
   "cell_type": "markdown",
   "metadata": {
    "deletable": false,
    "nbgrader": {
     "cell_type": "markdown",
     "checksum": "2e83d862b3c5fd4fb57d72c50e8115f8",
     "grade": true,
     "grade_id": "c1",
     "locked": false,
     "points": 1,
     "schema_version": 3,
     "solution": true,
     "task": false
    }
   },
   "source": [
    "<font color = red>**Vậy em chọn câu $[b]\\space1000$**</font>"
   ]
  },
  {
   "cell_type": "markdown",
   "metadata": {},
   "source": [
    "## Câu 2 (1 điểm)"
   ]
  },
  {
   "cell_type": "code",
   "execution_count": 3,
   "metadata": {},
   "outputs": [
    {
     "data": {
      "text/plain": [
       "1300.4580341747942"
      ]
     },
     "execution_count": 3,
     "metadata": {},
     "output_type": "execute_result"
    }
   ],
   "source": [
    "Lower_bound_of_N(10)"
   ]
  },
  {
   "cell_type": "markdown",
   "metadata": {},
   "source": [
    "Ta thấy kết quả ở trên gần với 1500"
   ]
  },
  {
   "cell_type": "markdown",
   "metadata": {
    "deletable": false,
    "nbgrader": {
     "cell_type": "markdown",
     "checksum": "47d4e2bb3e4812ef7b37e032a898cfec",
     "grade": true,
     "grade_id": "c2",
     "locked": false,
     "points": 1,
     "schema_version": 3,
     "solution": true,
     "task": false
    }
   },
   "source": [
    "<font color = red>**Vậy em chọn câu $[c]\\space1500$**</font>"
   ]
  },
  {
   "cell_type": "markdown",
   "metadata": {},
   "source": [
    "## Câu 3 (1 điểm)"
   ]
  },
  {
   "cell_type": "code",
   "execution_count": 4,
   "metadata": {},
   "outputs": [
    {
     "data": {
      "text/plain": [
       "1760.9750527736032"
      ]
     },
     "execution_count": 4,
     "metadata": {},
     "output_type": "execute_result"
    }
   ],
   "source": [
    "Lower_bound_of_N(100)"
   ]
  },
  {
   "cell_type": "markdown",
   "metadata": {},
   "source": [
    "Ta thấy kết quả ở trên gần với 2000"
   ]
  },
  {
   "cell_type": "markdown",
   "metadata": {
    "deletable": false,
    "nbgrader": {
     "cell_type": "markdown",
     "checksum": "0997a909d9ab1f250c2bfd0645fee970",
     "grade": true,
     "grade_id": "c3",
     "locked": false,
     "points": 1,
     "schema_version": 3,
     "solution": true,
     "task": false
    }
   },
   "source": [
    "<font color = red>**Vậy em chọn câu $[d]\\space2000$**</font>"
   ]
  },
  {
   "cell_type": "markdown",
   "metadata": {},
   "source": [
    "## Câu 4 (1 điểm)"
   ]
  },
  {
   "cell_type": "markdown",
   "metadata": {},
   "source": [
    "Theo Perceptron: $d_{VC}=d+1$\n",
    "$\\Rightarrow$ Trong $\\mathbb{R}^3: d_{VC} = 4$\\\n",
    "Ta lại có: $d_{VC}(H) = min\\{Breakpoint$ $k\\} - 1$\\\n",
    "$\\Rightarrow Breakpoint$ nhỏ nhất trong $\\mathbb{R}^3 = 5$"
   ]
  },
  {
   "cell_type": "markdown",
   "metadata": {
    "deletable": false,
    "nbgrader": {
     "cell_type": "markdown",
     "checksum": "efabab5c4035a6864ac8cb3e0061c6f0",
     "grade": true,
     "grade_id": "c4",
     "locked": false,
     "points": 1,
     "schema_version": 3,
     "solution": true,
     "task": false
    }
   },
   "source": [
    "<font color = red>**Vậy em chọn câu $[b]\\space5$**</font>"
   ]
  },
  {
   "cell_type": "markdown",
   "metadata": {},
   "source": [
    "## Câu 5 (1 điểm)"
   ]
  },
  {
   "cell_type": "markdown",
   "metadata": {},
   "source": [
    "Ta đã biết:\n",
    "- Nếu $H$ không có $Breakpoint$ thì $Growth\\space Function$ bằng $2^N$\n",
    "- Nếu $H$ có $Breakpoint$ thì $m_H(N)= \\sum_{i=0}^{k-1} {{N}\\choose{i}}$\n",
    "\n",
    "Với $k=2 \\Rightarrow$ $m_H(N)\\le1+N$\n",
    "\n",
    "Với $k=3 \\Rightarrow$ $m_H(N)\\le1+N+{{N}\\choose{2}}$"
   ]
  },
  {
   "cell_type": "markdown",
   "metadata": {},
   "source": [
    "Do đó, các công thức có thể cho $Growth\\space Function$ là $i, ii, v$"
   ]
  },
  {
   "cell_type": "markdown",
   "metadata": {
    "deletable": false,
    "nbgrader": {
     "cell_type": "markdown",
     "checksum": "0b484b8390bec96142e8a1213ee8cd2c",
     "grade": true,
     "grade_id": "c5",
     "locked": false,
     "points": 1,
     "schema_version": 3,
     "solution": true,
     "task": false
    }
   },
   "source": [
    "<font color = red>**Vậy em chọn câu $[b]\\space i, ii, v$**</font>"
   ]
  },
  {
   "cell_type": "markdown",
   "metadata": {},
   "source": [
    "## Câu 6 (1 điểm)"
   ]
  },
  {
   "cell_type": "markdown",
   "metadata": {},
   "source": [
    "Theo đề bài, tập $Hypothesis$ đó không thể biểu diễn $\"3-intervals\"$ hay 3 vùng $+$\\\n",
    "Số $Breakpoint$ nhỏ nhất để thể hiện được là 5 $(+-+-+)$"
   ]
  },
  {
   "cell_type": "markdown",
   "metadata": {
    "deletable": false,
    "nbgrader": {
     "cell_type": "markdown",
     "checksum": "26f542221236fb24d0ddbee584eed7d0",
     "grade": true,
     "grade_id": "c6",
     "locked": false,
     "points": 1,
     "schema_version": 3,
     "solution": true,
     "task": false
    }
   },
   "source": [
    "<font color = red>**Vậy em chọn câu $[c]\\space5$**</font>"
   ]
  },
  {
   "cell_type": "markdown",
   "metadata": {},
   "source": [
    "## Câu 7 (1 điểm)"
   ]
  },
  {
   "cell_type": "markdown",
   "metadata": {},
   "source": [
    "$N$ điểm trong không gian input một chiều sao cho không có điểm nào trùng nhau. $N$ điểm này sẽ tạo ra $N+1$ vùng. \n",
    "\n",
    "Giả sử hàm $h(x)$ của tập $Hypothesis$ $\"2-intervals\"$ này như sau:$$H=f(x)=\n",
    "\\begin{cases}\n",
    "    +1,& \\text{if } a\\le x \\le b \\text{ or } c\\le x \\le d\\\\\n",
    "    -1,& \\text{otherwise}\n",
    "\\end{cases}$$\n",
    "Ta xét:\n",
    "- Nếu $a,b,c,d$ không trùng nhau, số cách đặt 4 điểm này vào $N+1$ vùng (để tạo ra 2 vùng $+$) là: ${{N+1}\\choose{4}}$\n",
    "- Nếu trong 4 điểm trên có 2 hoặc 3 điểm trùng nhau thì sẽ chỉ còn 1 vùng $+$ (tương tự như $positive\\space interval$) nên số vùng có thể tạo ra là: ${{N+1}\\choose{2}}$\n",
    "- Trường hợp cả 4 điểm trên trùng nhau: $1$\\\n",
    "$\\Rightarrow$ Kết quả là: ${{N+1}\\choose{4}}+{{N+1}\\choose{2}}+1$"
   ]
  },
  {
   "cell_type": "markdown",
   "metadata": {
    "deletable": false,
    "nbgrader": {
     "cell_type": "markdown",
     "checksum": "322a244b0fae3a20ec568a5099aaaec1",
     "grade": true,
     "grade_id": "c7",
     "locked": false,
     "points": 1,
     "schema_version": 3,
     "solution": true,
     "task": false
    }
   },
   "source": [
    "<font color = red>**Vậy em chọn câu $[c]\\space{{N+1}\\choose{4}}+{{N+1}\\choose{2}}+1$**</font>"
   ]
  },
  {
   "cell_type": "markdown",
   "metadata": {},
   "source": [
    "## Câu 8 (1 điểm)"
   ]
  },
  {
   "cell_type": "markdown",
   "metadata": {},
   "source": [
    "Ta nhận thấy khi đặt $M$ vùng $+$ và $M$ vùng $-$ xen kẻ nhau, tập hypothesis $\"M-intervals\"$ có thể biểu diễn được tất cả các trường hợp, nhưng khi đặt thêm một vùng cộng phía sau ($+1$) thì tập $Hypothesis$ này không thể $\"shatter\"$. Ví dụ:\n",
    "- $M=1$: $+-+$\n",
    "- $M=2$: $+-+-+$\n",
    "\n",
    "Do đó, số $Breakpoint$ nhỏ nhất của tập $\"M-intervals\"$ là $2M + 1$"
   ]
  },
  {
   "cell_type": "markdown",
   "metadata": {
    "deletable": false,
    "nbgrader": {
     "cell_type": "markdown",
     "checksum": "d81773f072cd15e4a27b6cd240a5d990",
     "grade": true,
     "grade_id": "c8",
     "locked": false,
     "points": 1,
     "schema_version": 3,
     "solution": true,
     "task": false
    }
   },
   "source": [
    "<font color = red>**Vậy em chọn câu $[d]\\space2M+1$**</font>"
   ]
  },
  {
   "cell_type": "markdown",
   "metadata": {},
   "source": [
    "## Câu 9 (1 điểm)"
   ]
  },
  {
   "cell_type": "markdown",
   "metadata": {},
   "source": [
    "Xem tập $Hypothesis$ này như là $\"3-intervals\"$. Theo như câu trên thì $Breakpoint$ nhỏ nhất của tập $Hypothesis$ này là 7, tức $Growth\\space Function$ bằng 6. Nhưng vì là $Convex\\space set$, nên khi ta đặt xen kẽ các vùng $+/-$:$+-+-+-+$ thì vùng $+$ đầu trùng với vùng $+$ cuối nên vẫn có thể $\"shatter\"$. Do đó, $Growth\\space Function$ của tập $Hypothesis$ này là 7."
   ]
  },
  {
   "cell_type": "markdown",
   "metadata": {
    "deletable": false,
    "nbgrader": {
     "cell_type": "markdown",
     "checksum": "e814a2db0b8a53e4fddfee4bcbf405fc",
     "grade": true,
     "grade_id": "c9",
     "locked": false,
     "points": 1,
     "schema_version": 3,
     "solution": true,
     "task": false
    }
   },
   "source": [
    "<font color = red>**Vậy em chọn câu $[d]\\space7$**</font>"
   ]
  },
  {
   "cell_type": "markdown",
   "metadata": {},
   "source": [
    "## Câu 10 (1 điểm)"
   ]
  },
  {
   "cell_type": "markdown",
   "metadata": {},
   "source": [
    "Tập $Hypothesis$ này tương tự với $positive\\space interval$, nếu một điểm nằm trong vùng tạo bởi hai hình tròn bán kính $a$ và $b$ thì là $+1$, ngược lại là $-1$. Do đó, $Growth\\space Function$ của tập này cũng là: ${{N+1}\\choose{2}}+1$"
   ]
  },
  {
   "cell_type": "markdown",
   "metadata": {
    "deletable": false,
    "nbgrader": {
     "cell_type": "markdown",
     "checksum": "41cbf5c6d2b94eeae0a712be2181fef6",
     "grade": true,
     "grade_id": "c10",
     "locked": false,
     "points": 1,
     "schema_version": 3,
     "solution": true,
     "task": false
    }
   },
   "source": [
    "<font color = red>**Vậy em chọn câu $[b]\\space{{N+1}\\choose{2}}+1$**</font>"
   ]
  }
 ],
 "metadata": {
  "kernelspec": {
   "display_name": "Python 3",
   "language": "python",
   "name": "python3"
  },
  "language_info": {
   "codemirror_mode": {
    "name": "ipython",
    "version": 3
   },
   "file_extension": ".py",
   "mimetype": "text/x-python",
   "name": "python",
   "nbconvert_exporter": "python",
   "pygments_lexer": "ipython3",
   "version": "3.7.4"
  },
  "toc": {
   "base_numbering": 1,
   "nav_menu": {},
   "number_sections": true,
   "sideBar": true,
   "skip_h1_title": false,
   "title_cell": "Table of Contents",
   "title_sidebar": "Contents",
   "toc_cell": false,
   "toc_position": {},
   "toc_section_display": true,
   "toc_window_display": false
  },
  "varInspector": {
   "cols": {
    "lenName": 16,
    "lenType": 16,
    "lenVar": 40
   },
   "kernels_config": {
    "python": {
     "delete_cmd_postfix": "",
     "delete_cmd_prefix": "del ",
     "library": "var_list.py",
     "varRefreshCmd": "print(var_dic_list())"
    },
    "r": {
     "delete_cmd_postfix": ") ",
     "delete_cmd_prefix": "rm(",
     "library": "var_list.r",
     "varRefreshCmd": "cat(var_dic_list()) "
    }
   },
   "types_to_exclude": [
    "module",
    "function",
    "builtin_function_or_method",
    "instance",
    "_Feature"
   ],
   "window_display": false
  }
 },
 "nbformat": 4,
 "nbformat_minor": 4
}
