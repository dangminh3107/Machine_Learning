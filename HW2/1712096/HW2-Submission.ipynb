{
 "cells": [
  {
   "cell_type": "markdown",
   "metadata": {},
   "source": [
    "# Bài tập 2\n",
    "\n",
    "Đặng Hồng Minh - 1712096"
   ]
  },
  {
   "cell_type": "markdown",
   "metadata": {},
   "source": [
    "## Câu 1 (1 điểm)"
   ]
  },
  {
   "cell_type": "code",
   "execution_count": 1,
   "metadata": {},
   "outputs": [],
   "source": [
    "import numpy as np\n",
    "import math"
   ]
  },
  {
   "cell_type": "code",
   "execution_count": 2,
   "metadata": {},
   "outputs": [
    {
     "name": "stdout",
     "output_type": "stream",
     "text": [
      "0.037760999999999996\n"
     ]
    }
   ],
   "source": [
    "nus = np.random.binomial(10, 0.5, (100000, 1000))/10\n",
    "v_cmin = np.min(nus,axis=1)\n",
    "print(np.mean(v_cmin))"
   ]
  },
  {
   "cell_type": "markdown",
   "metadata": {
    "deletable": false,
    "nbgrader": {
     "cell_type": "markdown",
     "checksum": "2e83d862b3c5fd4fb57d72c50e8115f8",
     "grade": true,
     "grade_id": "c1",
     "locked": false,
     "points": 1,
     "schema_version": 3,
     "solution": true,
     "task": false
    }
   },
   "source": [
    "Vậy em chọn câu $[b]$ $0.01$"
   ]
  },
  {
   "cell_type": "markdown",
   "metadata": {},
   "source": [
    "## Câu 2 (1 điểm)"
   ]
  },
  {
   "cell_type": "code",
   "execution_count": 3,
   "metadata": {},
   "outputs": [
    {
     "name": "stdout",
     "output_type": "stream",
     "text": [
      "0.49985\n",
      "0.48589502000000007\n"
     ]
    }
   ],
   "source": [
    "# Cách 1:\n",
    "v_c1 = nus[:,0]\n",
    "print(np.mean(v_c1))\n",
    "\n",
    "#row = np.arange(nus.shape[0])\n",
    "v_crand = []\n",
    "temp = np.random.choice(np.arange(nus.shape[1]),size = nus.shape[0])\n",
    "for i in temp:\n",
    "    v_crand.append(temp[i]/1000)\n",
    "print(np.mean(v_crand))"
   ]
  },
  {
   "cell_type": "markdown",
   "metadata": {},
   "source": [
    "Ta thấy mean(v) của $c_1$  $\\thickapprox$ mean(v) của $c_{rand}$ $\\thickapprox \\mu$ = 0.5"
   ]
  },
  {
   "cell_type": "code",
   "execution_count": 4,
   "metadata": {},
   "outputs": [
    {
     "name": "stdout",
     "output_type": "stream",
     "text": [
      "c1:  True\n",
      "crand:  False\n",
      "cmin:  False\n"
     ]
    }
   ],
   "source": [
    "# Cách 2:\n",
    "def hoeffding (x, muy, n):\n",
    "    res = True\n",
    "    for e in np.arange(0.01,0.05,0.01):\n",
    "        if (abs(np.mean(x)-muy)>e) > 2*np.exp(-2*n*e**2):\n",
    "            res = False\n",
    "            break\n",
    "    return res\n",
    "\n",
    "print(\"c1: \", hoeffding(v_c1, 0.5,100000))\n",
    "print(\"crand: \", hoeffding(v_crand,0.5,100000))\n",
    "print(\"cmin: \", hoeffding(v_cmin,0.5,100000))"
   ]
  },
  {
   "cell_type": "markdown",
   "metadata": {},
   "source": [
    "- Với mỗi giá trị của $0<\\epsilon<0.5$, ta luôn có $VT < VP$ tương ứng với mỗi coins ($c_1$,$c_{rand}$)\n",
    "$\\Rightarrow$ Thỏa bất đẳng thức Hoeffding"
   ]
  },
  {
   "cell_type": "markdown",
   "metadata": {
    "deletable": false,
    "nbgrader": {
     "cell_type": "markdown",
     "checksum": "47d4e2bb3e4812ef7b37e032a898cfec",
     "grade": true,
     "grade_id": "c2",
     "locked": false,
     "points": 1,
     "schema_version": 3,
     "solution": true,
     "task": false
    }
   },
   "source": [
    "Vậy em chọn câu $[d]$ $c_1$ and $c_{rand}$"
   ]
  },
  {
   "cell_type": "markdown",
   "metadata": {},
   "source": [
    "## Câu 3 (1 điểm)"
   ]
  },
  {
   "cell_type": "markdown",
   "metadata": {},
   "source": [
    "Xác suất gặp lỗi khi $h$ xấp xỉ $y$ (có nhiễu). Có hai trường hợp xảy ra khi có nhiễu:\n",
    "- $h=f(x)$  nhưng $y\\neq f(x)$, xác suất là: $(1-\\mu)*(1-\\lambda)$\n",
    "- $h\\neq f(x)$ nhưng $y=f(x)$, xác suất là: $\\mu*\\lambda$  \n",
    "$\\Rightarrow$ xác suất lỗi khi $h$ xấp xỉ $y$ là: $P=(1-\\mu)*(1-\\lambda)+\\mu*\\lambda$"
   ]
  },
  {
   "cell_type": "markdown",
   "metadata": {
    "deletable": false,
    "nbgrader": {
     "cell_type": "markdown",
     "checksum": "0997a909d9ab1f250c2bfd0645fee970",
     "grade": true,
     "grade_id": "c3",
     "locked": false,
     "points": 1,
     "schema_version": 3,
     "solution": true,
     "task": false
    }
   },
   "source": [
    "Vậy, em chọn câu $[e]$ $(1-\\lambda)*(1-\\mu)+\\lambda*\\mu$"
   ]
  },
  {
   "cell_type": "markdown",
   "metadata": {},
   "source": [
    "## Câu 4 (1 điểm)"
   ]
  },
  {
   "cell_type": "markdown",
   "metadata": {},
   "source": [
    "${(1 - \\mu) * (1 - \\lambda) + \\mu * \\lambda}$\n",
    "\n",
    "= ${1 - \\mu - \\lambda + 2\\mu\\lambda}$\n",
    "\n",
    "= ${1 - \\mu - \\lambda(1 - 2\\mu)}$\n",
    "\n",
    "- Để h độc lập với ${\\lambda}$ thì $\\Rightarrow {\\lambda = \\frac{1}{2}}$\n",
    "- Tại $\\lambda= \\frac{1}{2}$, giá trị $\\mu$ trong $P$ sẽ bị triệt tiêu nên $h$ sẽ độc lập với $\\mu$. Khi đó, nếu $h$ dự đoán đúng $100\\%$ thì vẫn sẽ có $50\\%$ sai (do nhiễu). Ngược lại, nếu $h$ dự đoán sai $100\\%$ thì vẫn sẽ $50\\%$ đúng. "
   ]
  },
  {
   "cell_type": "markdown",
   "metadata": {
    "deletable": false,
    "nbgrader": {
     "cell_type": "markdown",
     "checksum": "efabab5c4035a6864ac8cb3e0061c6f0",
     "grade": true,
     "grade_id": "c4",
     "locked": false,
     "points": 1,
     "schema_version": 3,
     "solution": true,
     "task": false
    }
   },
   "source": [
    "Vậy em chọn câu $[b]$ 0.5"
   ]
  },
  {
   "cell_type": "markdown",
   "metadata": {},
   "source": [
    "## Câu 5 (1 điểm)"
   ]
  },
  {
   "cell_type": "code",
   "execution_count": 5,
   "metadata": {},
   "outputs": [],
   "source": [
    "def generate_target_w():\n",
    "    \"\"\"\n",
    "    Generates target_w from two random, uniformly distributed points in [-1, 1] x [-1, 1].\n",
    "    \n",
    "    Returns\n",
    "    -------\n",
    "    target_w : The vector of parameters of f.\n",
    "    \"\"\"\n",
    "    # Generate two points from a uniform distribution over [-1, 1]x[-1, 1]\n",
    "    p1 = np.random.uniform(-1, 1, 2)\n",
    "    p2 = np.random.uniform(-1, 1, 2)\n",
    "    # Compute the target W from these two points\n",
    "    target_w = np.array([p1[1]*p2[0] - p1[0]*p2[1], p2[1] - p1[1], p1[0] - p2[0]]).reshape((-1, 1))\n",
    "    \n",
    "    return target_w"
   ]
  },
  {
   "cell_type": "code",
   "execution_count": 6,
   "metadata": {},
   "outputs": [],
   "source": [
    "def generate_data(N, target_w):\n",
    "    \"\"\"\n",
    "    Generates a data set by generating random inputs and then using target_w to generate the \n",
    "    corresponding outputs.\n",
    "    \n",
    "    Parameters\n",
    "    ----------\n",
    "    N : The number of examples.\n",
    "    target_w : The vector of parameters of f.\n",
    "    \n",
    "    Returns\n",
    "    -------\n",
    "    X : The matrix of input vectors (each row corresponds to an input vector); the first column of \n",
    "        this matrix is all ones.\n",
    "    Y : The vector of outputs.        \n",
    "    \"\"\"\n",
    "    bad_data = True # `bad_data = True` means: data contain points on the target line \n",
    "                    # (this rarely happens, but just to be careful)\n",
    "                    # -> y's of these points = 0 (with np.sign); \n",
    "                    #    we don't want this (y's of data must be -1 or 1)\n",
    "                    # -> re-generate data until `bad_data = False`\n",
    "    \n",
    "    while bad_data == True:\n",
    "        X = np.random.uniform(-1, 1, (N, 2))\n",
    "        X = np.hstack((np.ones((N, 1)), X)) # Add 'ones' column\n",
    "        Y = np.sign(np.dot(X, target_w))\n",
    "        if (0 not in Y): # Good data\n",
    "            bad_data = False\n",
    "    \n",
    "    return X, Y"
   ]
  },
  {
   "cell_type": "code",
   "execution_count": 7,
   "metadata": {},
   "outputs": [],
   "source": [
    "def run_LR(X, ys):\n",
    "    \"\"\"\n",
    "    Runs PLA.\n",
    "    \n",
    "    Parameters\n",
    "    ----------\n",
    "    X : The matrix of input vectors (each row corresponds to an input vector); the first column of \n",
    "        this matrix is all ones.\n",
    "    ys : The vector of outputs.\n",
    "    \n",
    "    Returns\n",
    "    -------\n",
    "    w : The vector of parameters of g.\n",
    "    \"\"\"\n",
    "    X_dagger = np.dot(np.linalg.pinv(np.dot(X.T, X)), X.T)\n",
    "    w = np.dot(X_dagger, ys)\n",
    "    return w"
   ]
  },
  {
   "cell_type": "code",
   "execution_count": 8,
   "metadata": {},
   "outputs": [],
   "source": [
    "def mainrun_5_6(n_in):\n",
    "    \"\"\"\n",
    "    Parameters\n",
    "    ----------\n",
    "    n_in : The number of training examples.\n",
    "    \"\"\"\n",
    "    num_runs = 1000\n",
    "    # The average in-sample error of g - the final hypothesis picked by Linear Regression\n",
    "    avg_ein = 0.0\n",
    "    # The average out-of-sample error of g\n",
    "    avg_eout = 0.0\n",
    "    # Number of out-sample points (estimation purpose)\n",
    "    n_out = 1000\n",
    "    \n",
    "    for r in range(num_runs):\n",
    "        # Generate target_w\n",
    "        target_w = generate_target_w()\n",
    "        # Generate training set\n",
    "        X_in, Y_in = generate_data(n_in, target_w)\n",
    "        # Generate out-of-sample dataset\n",
    "        X_out, Y_out = generate_data(n_out, target_w)\n",
    "        \n",
    "        # Run Linear Regression to pick g\n",
    "        w = run_LR(X_in, Y_in)\n",
    "        \n",
    "        # Predict on training set with found w\n",
    "        predictions_in = np.dot(X_in, w)\n",
    "        # Predict on out-of-sample set with found w\n",
    "        predictions_out = np.dot(X_out, w)\n",
    "        \n",
    "        # Compute binary error between y_in/ y_out - correct output & predictions\n",
    "        ein = np.mean(Y_in != np.sign(predictions_in))\n",
    "        eout = np.mean(Y_out != np.sign(predictions_out))\n",
    "        \n",
    "        # Update average error\n",
    "        avg_ein += (ein * 1.0 / num_runs)\n",
    "        avg_eout += (eout * 1.0 / num_runs)\n",
    "    \n",
    "    # Print results\n",
    "    print('Average Ein = %f' % (avg_ein))\n",
    "    print('Average Eout = %f' % (avg_eout))"
   ]
  },
  {
   "cell_type": "code",
   "execution_count": 9,
   "metadata": {},
   "outputs": [
    {
     "name": "stdout",
     "output_type": "stream",
     "text": [
      "Average Ein = 0.040850\n",
      "Average Eout = 0.050308\n"
     ]
    }
   ],
   "source": [
    "mainrun_5_6(100)"
   ]
  },
  {
   "cell_type": "markdown",
   "metadata": {
    "deletable": false,
    "nbgrader": {
     "cell_type": "markdown",
     "checksum": "0b484b8390bec96142e8a1213ee8cd2c",
     "grade": true,
     "grade_id": "c5",
     "locked": false,
     "points": 1,
     "schema_version": 3,
     "solution": true,
     "task": false
    }
   },
   "source": [
    "Vậy em chọn câu $[c]$ 0.01"
   ]
  },
  {
   "cell_type": "markdown",
   "metadata": {},
   "source": [
    "## Câu 6 (1 điểm)"
   ]
  },
  {
   "cell_type": "markdown",
   "metadata": {
    "deletable": false,
    "nbgrader": {
     "cell_type": "markdown",
     "checksum": "26f542221236fb24d0ddbee584eed7d0",
     "grade": true,
     "grade_id": "c6",
     "locked": false,
     "points": 1,
     "schema_version": 3,
     "solution": true,
     "task": false
    }
   },
   "source": [
    "Vậy em chọn câu $[c]$ 0.01"
   ]
  },
  {
   "cell_type": "markdown",
   "metadata": {},
   "source": [
    "## Câu 7 (1 điểm)"
   ]
  },
  {
   "cell_type": "code",
   "execution_count": 10,
   "metadata": {},
   "outputs": [],
   "source": [
    "def run_PLA(X, ys):\n",
    "    \"\"\"\n",
    "    Runs PLA.\n",
    "    \n",
    "    Parameters\n",
    "    ----------\n",
    "    X :  The matrix of input vectors (each row corresponds to an input vector); the first column of \n",
    "         this matrix is all ones.\n",
    "    ys : The vector of outputs.\n",
    "    \n",
    "    Returns\n",
    "    -------\n",
    "    iterations : The number of iterations PLA takes to converge.\n",
    "    \"\"\"\n",
    "    # Init w using Linear Regression\n",
    "    w = run_LR(X, ys)\n",
    "    iteration = 0\n",
    "    \n",
    "    while True:\n",
    "        iteration += 1\n",
    "        # Compute sign for each input vector with current w\n",
    "        h = np.sign(np.dot(X, w))\n",
    "        \n",
    "        # Find misclassified if existed\n",
    "        for i in range(0, X.shape[0]):\n",
    "            if h[i] != ys[i]:\n",
    "                change = X[i]*ys[i]\n",
    "                # Change current w to make X[i] classified\n",
    "                w = w + change.reshape((-1, 1))\n",
    "                break\n",
    "        \n",
    "        # Check if converged\n",
    "        if np.array_equal(h, ys) == True:\n",
    "            break\n",
    "    \n",
    "    return iteration"
   ]
  },
  {
   "cell_type": "code",
   "execution_count": 11,
   "metadata": {},
   "outputs": [],
   "source": [
    "def main_PLA(N):\n",
    "    \"\"\"\n",
    "    Parameters\n",
    "    ----------\n",
    "    N : The number of training samples.\n",
    "    \"\"\"\n",
    "    num_runs = 1000\n",
    "    # The average number of iterations PLA takes to converge\n",
    "    avg_num_iterations = 0.0\n",
    "    \n",
    "    for r in range(num_runs):\n",
    "        # Generate target_w\n",
    "        target_w = generate_target_w()\n",
    "        \n",
    "        # Generate training set\n",
    "        X, ys = generate_data(N, target_w)\n",
    "        \n",
    "        # Run PLA to completely separates all the in-sample points\n",
    "        num_iterations = run_PLA(X, ys)\n",
    "        \n",
    "        # Update average num_iterations\n",
    "        avg_num_iterations += (num_iterations * 1.0 / num_runs)\n",
    "    \n",
    "    # Print results\n",
    "    print('Average num iterations = %f' % (avg_num_iterations))"
   ]
  },
  {
   "cell_type": "code",
   "execution_count": 12,
   "metadata": {},
   "outputs": [
    {
     "name": "stdout",
     "output_type": "stream",
     "text": [
      "Average num iterations = 5.874000\n"
     ]
    }
   ],
   "source": [
    "main_PLA(10)"
   ]
  },
  {
   "cell_type": "markdown",
   "metadata": {
    "deletable": false,
    "nbgrader": {
     "cell_type": "markdown",
     "checksum": "322a244b0fae3a20ec568a5099aaaec1",
     "grade": true,
     "grade_id": "c7",
     "locked": false,
     "points": 1,
     "schema_version": 3,
     "solution": true,
     "task": false
    }
   },
   "source": [
    "Vậy em chọn câu $[a]$ 1"
   ]
  },
  {
   "cell_type": "markdown",
   "metadata": {},
   "source": [
    "## Câu 8 (1 điểm)"
   ]
  },
  {
   "cell_type": "code",
   "execution_count": 13,
   "metadata": {},
   "outputs": [],
   "source": [
    "def generate_data_with_noise(N, noise):\n",
    "    \"\"\"\n",
    "    Generates a data set by generating random inputs and then using target_w to generate the \n",
    "    corresponding outputs.\n",
    "    \n",
    "    Parameters\n",
    "    ----------\n",
    "    N : int\n",
    "        The number of examples.\n",
    "    noise : float\n",
    "        The percentage of noise in data set.\n",
    "    \n",
    "    Returns\n",
    "    -------\n",
    "    X : numpy array, shape (N, 3)\n",
    "        The matrix of input vectors (each row corresponds to an input vector); the first column of \n",
    "        this matrix is all ones.\n",
    "    ys : numpy array, shape (N, 1)\n",
    "        The vector of outputs.        \n",
    "    \"\"\"\n",
    "    bad_data = True # `bad_data = True` means: data contain points on the target line \n",
    "                    # (this rarely happens, but just to be careful)\n",
    "                    # -> y's of these points = 0 (with np.sign); \n",
    "                    #    we don't want this (y's of data must be -1 or 1)\n",
    "                    # -> re-generate data until `bad_data = False`\n",
    "    \n",
    "    while bad_data == True:\n",
    "        X = np.random.uniform(-1, 1, (N, 2))\n",
    "        X = np.hstack((np.ones((N, 1)), X)) # Add 'ones' column\n",
    "        ys = np.sign(X[:, 1]**2 + X[:, 2]**2 - 0.6)\n",
    "        if (0 not in ys): # Good data\n",
    "            bad_data = False\n",
    "            \n",
    "    # Generate simulated noise by ﬂipping the sign of the output randomly\n",
    "    indices = np.random.choice(np.arange(N), size=int(noise*N), replace=False)\n",
    "    ys[indices] = -ys[indices]\n",
    "    \n",
    "    return X, ys"
   ]
  },
  {
   "cell_type": "code",
   "execution_count": 14,
   "metadata": {},
   "outputs": [],
   "source": [
    "def mainrun_8(N, noise):\n",
    "    \"\"\"\n",
    "    Parameters\n",
    "    ----------\n",
    "    N   : Number of samples.\n",
    "    noise  : The percentage of noise in data set.\n",
    "    \"\"\"\n",
    "    num_runs = 1000\n",
    "    # The average test error of g - the final hypothesis picked by Linear Regression\n",
    "    avg_err = 0.0\n",
    "    \n",
    "    for r in range(num_runs):\n",
    "        # Generate training set with noise & specific target function\n",
    "        X, Y = generate_data_with_noise(N, noise)\n",
    "        \n",
    "        # Run Linear Regression to pick g if not in the input\n",
    "        w = run_LR(X, Y)\n",
    "        \n",
    "        # Prediction on X with w found\n",
    "        predictions = np.dot(X, w)\n",
    "        \n",
    "        # Compute binary error between ys - correct output & predictions\n",
    "        err = np.mean(Y != np.sign(predictions))\n",
    "        \n",
    "        # Update average error\n",
    "        avg_err += (err * 1.0 / num_runs)\n",
    "    \n",
    "    # Print results\n",
    "    print('avg_err = %f' % (avg_err))"
   ]
  },
  {
   "cell_type": "code",
   "execution_count": 15,
   "metadata": {},
   "outputs": [
    {
     "name": "stdout",
     "output_type": "stream",
     "text": [
      "avg_err = 0.506234\n"
     ]
    }
   ],
   "source": [
    "mainrun_8(1000,0.1)"
   ]
  },
  {
   "cell_type": "markdown",
   "metadata": {
    "deletable": false,
    "nbgrader": {
     "cell_type": "markdown",
     "checksum": "d81773f072cd15e4a27b6cd240a5d990",
     "grade": true,
     "grade_id": "c8",
     "locked": false,
     "points": 1,
     "schema_version": 3,
     "solution": true,
     "task": false
    }
   },
   "source": [
    "Vậy em chọn câu $[d]$ 0.5"
   ]
  },
  {
   "cell_type": "markdown",
   "metadata": {},
   "source": [
    "## Câu 9 (1 điểm)"
   ]
  },
  {
   "cell_type": "code",
   "execution_count": 16,
   "metadata": {},
   "outputs": [],
   "source": [
    "def transform_to_nonlinear(X, ys):\n",
    "    \"\"\"\n",
    "    Transform the N = 1000 training data into the nonlinear feature vector.\n",
    "    \n",
    "    Parameters\n",
    "    ----------\n",
    "    X :  The matrix of input vectors (each row corresponds to an input vector); the first column of \n",
    "         this matrix is all ones.\n",
    "    ys : The vector of outputs.\n",
    "        \n",
    "    Returns\n",
    "    -------\n",
    "    Z : The matrix of data after transforming (each row corresponds to an input vector);\n",
    "        the first column of this matrix is all ones.\n",
    "    ys : The vector of correct outputs.     \n",
    "    \"\"\"\n",
    "    x1x2 = np.array([X[:, 1]*X[:, 2]])\n",
    "    # x1 square\n",
    "    x1sqr = np.array([X[:, 1]**2])\n",
    "    # x2 square\n",
    "    x2sqr = np.array([X[:, 2]**2])\n",
    "    Z = np.concatenate((X, x1x2.T, x1sqr.T, x2sqr.T), axis=1)\n",
    "        \n",
    "    return Z, ys"
   ]
  },
  {
   "cell_type": "code",
   "execution_count": 17,
   "metadata": {},
   "outputs": [
    {
     "name": "stdout",
     "output_type": "stream",
     "text": [
      "[-9.98947531e-01 -9.81307007e-04  1.19206600e-03  8.11733430e-03\n",
      "  1.57652922e+00  1.56082365e+00]\n"
     ]
    }
   ],
   "source": [
    "num_runs = 100\n",
    "avg_w = 0.0\n",
    "N = 1000\n",
    "noise = 0.1\n",
    "\n",
    "for r in range(num_runs):\n",
    "    X, ys = generate_data_with_noise(N, noise)\n",
    "    Z, ys = transform_to_nonlinear(X, ys)\n",
    "    avg_w += (run_LR(Z, ys) * 1.0 / num_runs)\n",
    "\n",
    "print(avg_w)"
   ]
  },
  {
   "cell_type": "markdown",
   "metadata": {},
   "source": [
    "Dựa vào kết quả trên ta thấy kết quả gần đúng nhất với câu a"
   ]
  },
  {
   "cell_type": "markdown",
   "metadata": {
    "deletable": false,
    "nbgrader": {
     "cell_type": "markdown",
     "checksum": "e814a2db0b8a53e4fddfee4bcbf405fc",
     "grade": true,
     "grade_id": "c9",
     "locked": false,
     "points": 1,
     "schema_version": 3,
     "solution": true,
     "task": false
    }
   },
   "source": [
    "Vậy em chọn câu $[a]$ $g(x_1,x_2) = sign(-1-0.05x_1+0.08x_2+0.13x_1x_2+1.5x_1^2 + 1.5x_2^2$"
   ]
  },
  {
   "cell_type": "markdown",
   "metadata": {},
   "source": [
    "## Câu 10 (1 điểm)"
   ]
  },
  {
   "cell_type": "code",
   "execution_count": 18,
   "metadata": {},
   "outputs": [],
   "source": [
    "def mainrun_10(N,noise):\n",
    "    num_runs = 1000 \n",
    "    E_out = 0.0\n",
    "    \n",
    "    for r in range(num_runs):        \n",
    "        # Generate training set\n",
    "        X, ys = generate_data_with_noise(N, noise)\n",
    "        Z,temp = transform_to_nonlinear(X, ys)\n",
    "        \n",
    "        w = run_LR(Z, ys) \n",
    "        \n",
    "        err = np.mean(ys != np.sign(np.dot(Z, w)))\n",
    "              \n",
    "        E_out += (err * 1.0 / num_runs)\n",
    "    \n",
    "    print('Eout = %f'% (E_out))"
   ]
  },
  {
   "cell_type": "code",
   "execution_count": 19,
   "metadata": {},
   "outputs": [
    {
     "name": "stdout",
     "output_type": "stream",
     "text": [
      "Eout = 0.124164\n"
     ]
    }
   ],
   "source": [
    "mainrun_10(1000,0.1)"
   ]
  },
  {
   "cell_type": "markdown",
   "metadata": {
    "deletable": false,
    "nbgrader": {
     "cell_type": "markdown",
     "checksum": "41cbf5c6d2b94eeae0a712be2181fef6",
     "grade": true,
     "grade_id": "c10",
     "locked": false,
     "points": 1,
     "schema_version": 3,
     "solution": true,
     "task": false
    }
   },
   "source": [
    "Vậy em chọn câu $[b]$ 0.1"
   ]
  }
 ],
 "metadata": {
  "kernelspec": {
   "display_name": "Python 3",
   "language": "python",
   "name": "python3"
  },
  "language_info": {
   "codemirror_mode": {
    "name": "ipython",
    "version": 3
   },
   "file_extension": ".py",
   "mimetype": "text/x-python",
   "name": "python",
   "nbconvert_exporter": "python",
   "pygments_lexer": "ipython3",
   "version": "3.7.4"
  },
  "toc": {
   "base_numbering": 1,
   "nav_menu": {},
   "number_sections": true,
   "sideBar": true,
   "skip_h1_title": false,
   "title_cell": "Table of Contents",
   "title_sidebar": "Contents",
   "toc_cell": false,
   "toc_position": {},
   "toc_section_display": true,
   "toc_window_display": false
  },
  "varInspector": {
   "cols": {
    "lenName": 16,
    "lenType": 16,
    "lenVar": 40
   },
   "kernels_config": {
    "python": {
     "delete_cmd_postfix": "",
     "delete_cmd_prefix": "del ",
     "library": "var_list.py",
     "varRefreshCmd": "print(var_dic_list())"
    },
    "r": {
     "delete_cmd_postfix": ") ",
     "delete_cmd_prefix": "rm(",
     "library": "var_list.r",
     "varRefreshCmd": "cat(var_dic_list()) "
    }
   },
   "types_to_exclude": [
    "module",
    "function",
    "builtin_function_or_method",
    "instance",
    "_Feature"
   ],
   "window_display": false
  }
 },
 "nbformat": 4,
 "nbformat_minor": 4
}
