{
 "cells": [
  {
   "cell_type": "markdown",
   "metadata": {},
   "source": [
    "# Bài tập 5\n",
    "\n",
    "Đặng Hồng Minh - 1712096"
   ]
  },
  {
   "cell_type": "markdown",
   "metadata": {},
   "source": [
    "## Câu 1 (1 điểm)"
   ]
  },
  {
   "cell_type": "code",
   "execution_count": 1,
   "metadata": {},
   "outputs": [],
   "source": [
    "import numpy as np\n",
    "import math"
   ]
  },
  {
   "cell_type": "code",
   "execution_count": 2,
   "metadata": {},
   "outputs": [
    {
     "name": "stdout",
     "output_type": "stream",
     "text": [
      "N = 10 => Ed(Ein) = 0.001\n",
      "N = 25 => Ed(Ein) = 0.006400000000000001\n",
      "N = 100 => Ed(Ein) = 0.009100000000000002\n",
      "N = 500 => Ed(Ein) = 0.009820000000000002\n",
      "N = 1000 => Ed(Ein) = 0.009910000000000002\n"
     ]
    }
   ],
   "source": [
    "def E_Ein(N, sigma, d):\n",
    "    return math.pow(sigma, 2) * (1-(d + 1)/N)\n",
    "\n",
    "sigma = 0.1\n",
    "d = 8\n",
    "print(\"N = 10 => Ed(Ein) =\", E_Ein(10, sigma, d))\n",
    "print(\"N = 25 => Ed(Ein) =\", E_Ein(25, sigma, d))\n",
    "print(\"N = 100 => Ed(Ein) =\", E_Ein(100, sigma, d))\n",
    "print(\"N = 500 => Ed(Ein) =\", E_Ein(500, sigma, d))\n",
    "print(\"N = 1000 => Ed(Ein) =\", E_Ein(1000, sigma, d))"
   ]
  },
  {
   "cell_type": "markdown",
   "metadata": {},
   "source": [
    "Với N = 100 thì giá trị $E_{in}\\ge0.008$"
   ]
  },
  {
   "cell_type": "markdown",
   "metadata": {
    "deletable": false,
    "nbgrader": {
     "cell_type": "markdown",
     "checksum": "2e83d862b3c5fd4fb57d72c50e8115f8",
     "grade": true,
     "grade_id": "c1",
     "locked": false,
     "points": 1,
     "schema_version": 3,
     "solution": true,
     "task": false
    }
   },
   "source": [
    "<font color = red>**Vậy em chọn câu $[c]\\space100$**</font>"
   ]
  },
  {
   "cell_type": "markdown",
   "metadata": {},
   "source": [
    "## Câu 2 (1 điểm)"
   ]
  },
  {
   "cell_type": "markdown",
   "metadata": {},
   "source": [
    "Ta có: $h(\\mathbf{x}) = sign(\\tilde{w}_0 + \\tilde{w}_1 x_1^2 + \\tilde{w}_2 x_2^2)$\n",
    "\n",
    "- Khi $x_1$ siêu âm hoặc siêu dương thì $x_1^2$ sẽ dương và rất lớn, và  $\\tilde{w}_1 x_1^2$ sẽ là đại lượng quyết định dấu của tổng trong công thức ở trên. Do $x_1^2$ dương nên $\\tilde{w}_1$ sẽ quyết định dấu của $\\tilde{w}_1 x_1^2$. Ta thấy dấu của tổng trong công thức trên sẽ âm khi |x1| lớn (x1 siêu âm hoặc siêu dương) - nhìn vào đồ thị. Do đó $\\tilde{w}_1 < 0$.\n",
    "\n",
    "- Tương tự, khi $x_2$ siêu âm hoặc siêu dương thì $x_2^2$ sẽ dương và rất lớn, và  $\\tilde{w}_2 x_2^2$ sẽ là đại lượng quyết định dấu của tổng trong công thức ở trên. Do $x_2^2$ dương nên $\\tilde{w}_2$ sẽ quyết định dấu của $\\tilde{w}_2 x_2^2$. Ta thấy dấu của tổng trong công thức trên sẽ dương khi |x2| lớn (x2 siêu âm hoặc siêu dương) - nhìn vào đồ thị. Do đó $\\tilde{w}_2 > 0$.\n",
    "\n",
    "$\\Rightarrow\\text{ Vậy }\\tilde{w}_1 < 0,\\tilde{w}_2 > 0$"
   ]
  },
  {
   "cell_type": "markdown",
   "metadata": {
    "deletable": false,
    "nbgrader": {
     "cell_type": "markdown",
     "checksum": "47d4e2bb3e4812ef7b37e032a898cfec",
     "grade": true,
     "grade_id": "c2",
     "locked": false,
     "points": 1,
     "schema_version": 3,
     "solution": true,
     "task": false
    }
   },
   "source": [
    "<font color = red>**Vậy em chọn câu $[d]\\space\\tilde{w}_1 < 0,\\tilde{w}_2 > 0$**</font>"
   ]
  },
  {
   "cell_type": "markdown",
   "metadata": {},
   "source": [
    "## Câu 3 (1 điểm)"
   ]
  },
  {
   "cell_type": "markdown",
   "metadata": {},
   "source": [
    "Sử dụng công thức về $d_{VC}$ của mô hình phân lớp tuyến tính (Perceptron) trong không gian $\\mathcal{Z}$ ở slide 4, lecture 9 - the linear model II ${d_{VC}\\leq d^*+ 1}$ với $d^*+ 1$ là số chiều của w* trong không gian $\\mathcal{Z}$ (không gian khi chuyển áp dụng non-linear transform).\n",
    "\n",
    "Ta có: d* + 1 = 15, suy ra $d_{VC} \\leq 15$.\n",
    "\n",
    "Do đó: giá trị nhỏ nhất trong các đáp án mà không nhỏ hơn $d_{VC}$ là: 15."
   ]
  },
  {
   "cell_type": "markdown",
   "metadata": {
    "deletable": false,
    "nbgrader": {
     "cell_type": "markdown",
     "checksum": "0997a909d9ab1f250c2bfd0645fee970",
     "grade": true,
     "grade_id": "c3",
     "locked": false,
     "points": 1,
     "schema_version": 3,
     "solution": true,
     "task": false
    }
   },
   "source": [
    "<font color = red>**Vậy em chọn câu $[c]\\space15$**</font>"
   ]
  },
  {
   "cell_type": "markdown",
   "metadata": {},
   "source": [
    "## Câu 4 (1 điểm)"
   ]
  },
  {
   "cell_type": "markdown",
   "metadata": {},
   "source": [
    "${\\frac{\\partial E}{\\partial u} = \\frac{\\partial(ue^v-2ve^{-u})^2}{\\partial u}}$\n",
    "\n",
    "${\\frac{\\partial E}{\\partial u} = 2(ue^v-2ve^{-u})(e^v+2ve^{-u})}$"
   ]
  },
  {
   "cell_type": "markdown",
   "metadata": {
    "deletable": false,
    "nbgrader": {
     "cell_type": "markdown",
     "checksum": "efabab5c4035a6864ac8cb3e0061c6f0",
     "grade": true,
     "grade_id": "c4",
     "locked": false,
     "points": 1,
     "schema_version": 3,
     "solution": true,
     "task": false
    }
   },
   "source": [
    "<font color = red>**Vậy em chọn câu $[e]\\space2(e^v+2ve^{-u})(ue^v-2ve^{-u})$**</font>"
   ]
  },
  {
   "cell_type": "markdown",
   "metadata": {},
   "source": [
    "## Câu 5 (1 điểm)"
   ]
  },
  {
   "cell_type": "code",
   "execution_count": 3,
   "metadata": {},
   "outputs": [
    {
     "name": "stdout",
     "output_type": "stream",
     "text": [
      "Iterations = 10\n",
      "Point = [0.04473629 0.02395871]\n"
     ]
    }
   ],
   "source": [
    "#Calculate gradient of E\n",
    "def Gradient(point):\n",
    "    \"\"\"\n",
    "    input: point(u, v)\n",
    "    output: [du, dv]\n",
    "    \"\"\"\n",
    "    du = 2 * (np.exp(point[1]) + 2*point[1]*np.exp(-point[0]))*(point[0]*np.exp(point[1])-2*point[1]*np.exp(-point[0]))\n",
    "    dv = 2 * (point[0]*np.exp(point[1])-2*point[1]*np.exp(-point[0])) * (point[0]*np.exp(point[1])-2*np.exp(-point[0]))\n",
    "    return np.array([du, dv])\n",
    "\n",
    "#Run GD algorithm\n",
    "def Gradient_Descent(eta, threshold):\n",
    "    \"\"\"\n",
    "    input: eta - leanring rate, threshold - ngưỡng\n",
    "    ouput: iterations - số lần lặp, point - điểm cực tiểu cục bộ tìm được\n",
    "    \"\"\"\n",
    "    point = np.array([1, 1])\n",
    "    Error = math.pow(1*np.exp(1) - 2*1*np.exp(-1), 2)\n",
    "    iterations = 0\n",
    "    while Error >= threshold:\n",
    "        iterations += 1\n",
    "        point = point - eta * Gradient(point)\n",
    "        Error = math.pow(point[0]*np.exp(point[1]) - 2*point[1]*np.exp(-point[0]), 2)\n",
    "    return iterations, point\n",
    "\n",
    "def mainrun_5_6(eta, threshold):\n",
    "    iterations, point = Gradient_Descent(eta, threshold)\n",
    "    print(\"Iterations =\",iterations)\n",
    "    print(\"Point =\",point)\n",
    "    \n",
    "mainrun_5_6(eta = 0.1, threshold = 1e-14)"
   ]
  },
  {
   "cell_type": "markdown",
   "metadata": {},
   "source": [
    "Ta thấy $Iterations$ = 10"
   ]
  },
  {
   "cell_type": "markdown",
   "metadata": {
    "deletable": false,
    "nbgrader": {
     "cell_type": "markdown",
     "checksum": "0b484b8390bec96142e8a1213ee8cd2c",
     "grade": true,
     "grade_id": "c5",
     "locked": false,
     "points": 1,
     "schema_version": 3,
     "solution": true,
     "task": false
    }
   },
   "source": [
    "<font color = red>**Vậy em chọn câu $[d]\\space10$**</font>"
   ]
  },
  {
   "cell_type": "markdown",
   "metadata": {},
   "source": [
    "## Câu 6 (1 điểm)"
   ]
  },
  {
   "cell_type": "markdown",
   "metadata": {},
   "source": [
    "Ta thấy $Point$ từ kết quả trên gần với $Point\\space(0.045, 0.024)$"
   ]
  },
  {
   "cell_type": "markdown",
   "metadata": {
    "deletable": false,
    "nbgrader": {
     "cell_type": "markdown",
     "checksum": "26f542221236fb24d0ddbee584eed7d0",
     "grade": true,
     "grade_id": "c6",
     "locked": false,
     "points": 1,
     "schema_version": 3,
     "solution": true,
     "task": false
    }
   },
   "source": [
    "<font color = red>**Vậy em chọn câu $[e]\\space(0.045, 0.024)$**</font>"
   ]
  },
  {
   "cell_type": "markdown",
   "metadata": {},
   "source": [
    "## Câu 7 (1 điểm)"
   ]
  },
  {
   "cell_type": "code",
   "execution_count": 4,
   "metadata": {},
   "outputs": [
    {
     "name": "stdout",
     "output_type": "stream",
     "text": [
      "Error =  0.13981379199615315\n"
     ]
    }
   ],
   "source": [
    "def mainrun_7(eta, N):\n",
    "    grad = np.array([1, 1])\n",
    "    for i in range(N):\n",
    "        du = 2 * (np.exp(grad[1]) + 2*grad[1]*np.exp(-grad[0]))*(grad[0]*np.exp(grad[1])-2*grad[1]*np.exp(-grad[0]))\n",
    "        grad = grad - eta * np.array([du, 0])\n",
    "        dv = 2 * (grad[0]*np.exp(grad[1])-2*grad[1]*np.exp(-grad[0])) * (grad[0]*np.exp(grad[1])-2*np.exp(-grad[0]))\n",
    "        grad = grad - eta * np.array([0, dv])\n",
    "    Error = math.pow(grad[0]*np.exp(grad[1]) - 2*grad[1]*np.exp(-grad[0]), 2)\n",
    "    print(\"Error = \", Error)\n",
    "    \n",
    "mainrun_7(eta = 0.1, N = 15)"
   ]
  },
  {
   "cell_type": "markdown",
   "metadata": {},
   "source": [
    "$Error$ gần nhất với $0.1$ hay $10^{-1}$"
   ]
  },
  {
   "cell_type": "markdown",
   "metadata": {
    "deletable": false,
    "nbgrader": {
     "cell_type": "markdown",
     "checksum": "322a244b0fae3a20ec568a5099aaaec1",
     "grade": true,
     "grade_id": "c7",
     "locked": false,
     "points": 1,
     "schema_version": 3,
     "solution": true,
     "task": false
    }
   },
   "source": [
    "<font color = red>**Vậy em chọn câu $[a]\\space10^{-1}$**</font>"
   ]
  },
  {
   "cell_type": "markdown",
   "metadata": {},
   "source": [
    "## Câu 8 (1 điểm)"
   ]
  },
  {
   "cell_type": "code",
   "execution_count": 5,
   "metadata": {},
   "outputs": [],
   "source": [
    "def generate_target_w():\n",
    "    \"\"\"\n",
    "    Generates target_w from two random, uniformly distributed points in [-1, 1] x [-1, 1].\n",
    "    \n",
    "    Returns\n",
    "    -------\n",
    "    target_w : numpy array, shape (3, 1) The vector of parameters of f.\n",
    "    \"\"\"\n",
    "    # Generate two points from a uniform distribution over [-1, 1]x[-1, 1]\n",
    "    p1 = np.random.uniform(-1, 1, 2)\n",
    "    p2 = np.random.uniform(-1, 1, 2)\n",
    "    # Compute the target W from these two points\n",
    "    target_w = np.array([p1[1]*p2[0] - p1[0]*p2[1], p2[1] - p1[1], p1[0] - p2[0]]).reshape((-1, 1))\n",
    "    \n",
    "    return target_w"
   ]
  },
  {
   "cell_type": "code",
   "execution_count": 6,
   "metadata": {},
   "outputs": [],
   "source": [
    "def generate_data(N, target_w):\n",
    "    \"\"\"\n",
    "    Generates a data set by generating random inputs and then using target_w to generate the \n",
    "    corresponding outputs.\n",
    "    \n",
    "    Parameters\n",
    "    ----------\n",
    "    N : The number of examples.\n",
    "    target_w : numpy array, shape (3, 1) The vector of parameters of f.\n",
    "    \n",
    "    Returns\n",
    "    -------\n",
    "    X : numpy array, shape (N, 3)\n",
    "        The matrix of input vectors (each row corresponds to an input vector); the first column of \n",
    "        this matrix is all ones.\n",
    "    Y : numpy array, shape (N, 1)\n",
    "        The vector of outputs.        \n",
    "    \"\"\"\n",
    "    bad_data = True # `bad_data = True` means: data contain points on the target line \n",
    "                    # (this rarely happens, but just to be careful)\n",
    "                    # -> y's of these points = 0 (with np.sign); \n",
    "                    #    we don't want this (y's of data must be -1 or 1)\n",
    "                    # -> re-generate data until `bad_data = False`\n",
    "    \n",
    "    while bad_data == True:\n",
    "        X = np.random.uniform(-1, 1, (N, 2))\n",
    "        X = np.hstack((np.ones((N, 1)), X)) # Add 'ones' column\n",
    "        Y = np.sign(np.dot(X, target_w))\n",
    "        if (0 not in Y): # Good data\n",
    "            bad_data = False\n",
    "    \n",
    "    return X, Y"
   ]
  },
  {
   "cell_type": "code",
   "execution_count": 7,
   "metadata": {},
   "outputs": [],
   "source": [
    "def SGD(X, Y, lr = 0.01):\n",
    "    \"\"\"\n",
    "    input:\n",
    "        X : numpy array, shape (N, 3)\n",
    "        Y : numpy array, shape (N, 1)    \n",
    "        lr: float\n",
    "    output:\n",
    "        w : numpy array, shape(3)\n",
    "        n_epochs: int\n",
    "    \"\"\"\n",
    "    N, sizeW = X.shape\n",
    "    w = np.zeros([sizeW])\n",
    "    n_epochs = 0\n",
    "    epochs = []\n",
    "    E_ins = []\n",
    "    while True:\n",
    "        pre_w = np.copy(w)\n",
    "        rand_idx = np.random.permutation(N)\n",
    "        for id in rand_idx:\n",
    "            gradient = (-Y[id] * X[id,:])/(1 + np.exp(Y[id]*np.dot(w.T, X[id,:])))\n",
    "            w = w - lr * gradient \n",
    "        n_epochs += 1\n",
    "        if np.linalg.norm(pre_w - w) < 0.01:\n",
    "            break\n",
    "    return w.reshape(3), n_epochs"
   ]
  },
  {
   "cell_type": "code",
   "execution_count": 8,
   "metadata": {},
   "outputs": [
    {
     "name": "stdout",
     "output_type": "stream",
     "text": [
      "average_Eout =  0.10441028980490409\n",
      "epochs =  333.37\n"
     ]
    }
   ],
   "source": [
    "def mainrun_8_9():\n",
    "    N = 100 # data training points\n",
    "    epochs = []\n",
    "    Eouts = []\n",
    "    average_Eout = 0\n",
    "    # Repeat the experiment for 100 runs with diﬀerent targets and take the average.\n",
    "    for i in range(100): \n",
    "        target_w = generate_target_w()\n",
    "        X, Y = generate_data(N, target_w)\n",
    "        w, n_epochs = SGD(X, Y, lr = 0.01)\n",
    "        X_new, Y_new = generate_data(N, target_w) # generate new data kích thước N = 1000 để tính Eout\n",
    "        average_Eout += np.mean(np.log(1 + np.exp(-Y_new*np.dot(X_new, w)[:, None]))) / N\n",
    "        epochs.append(n_epochs)\n",
    "    print(\"average_Eout = \",np.mean(average_Eout))\n",
    "    print(\"epochs = \",np.mean(epochs))\n",
    "    \n",
    "mainrun_8_9()"
   ]
  },
  {
   "cell_type": "markdown",
   "metadata": {},
   "source": [
    "Với N = 100, giá trị $E_{out}$ gần với $0.100$"
   ]
  },
  {
   "cell_type": "markdown",
   "metadata": {
    "deletable": false,
    "nbgrader": {
     "cell_type": "markdown",
     "checksum": "d81773f072cd15e4a27b6cd240a5d990",
     "grade": true,
     "grade_id": "c8",
     "locked": false,
     "points": 1,
     "schema_version": 3,
     "solution": true,
     "task": false
    }
   },
   "source": [
    "<font color = red>**Vậy em chọn câu $[d]\\space0.100$**</font>"
   ]
  },
  {
   "cell_type": "markdown",
   "metadata": {},
   "source": [
    "## Câu 9 (1 điểm)"
   ]
  },
  {
   "cell_type": "markdown",
   "metadata": {},
   "source": [
    "với N = 100, Số $epochs$ gần với $350$"
   ]
  },
  {
   "cell_type": "markdown",
   "metadata": {
    "deletable": false,
    "nbgrader": {
     "cell_type": "markdown",
     "checksum": "e814a2db0b8a53e4fddfee4bcbf405fc",
     "grade": true,
     "grade_id": "c9",
     "locked": false,
     "points": 1,
     "schema_version": 3,
     "solution": true,
     "task": false
    }
   },
   "source": [
    "<font color = red>**Vậy em chọn câu $[a]\\space350$**</font>"
   ]
  },
  {
   "cell_type": "markdown",
   "metadata": {},
   "source": [
    "## Câu 10 (1 điểm)"
   ]
  },
  {
   "cell_type": "markdown",
   "metadata": {},
   "source": [
    "- PLA: \n",
    "    - Với mẫu $\\left(\\mathbf{x}^{(n)}, y^{(n)}\\right)$ được phân lớp đúng thì $\\mathbf{w}$ không thay đổi.\n",
    "    - Với mẫu $\\left(\\mathbf{x}^{(n)}, y^{(n)}\\right)$ bị phân lớp sai thì cập nhật: $\\mathbf{w} \\leftarrow \\mathbf{w} + y^{(n)}\\mathbf{x}^{(n)}$.\n",
    "    \n",
    "- SGD: với mỗi mẫu $\\left(\\mathbf{x}^{(n)}, y^{(n)}\\right)$ thì đều cập nhật $\\mathbf{w} \\leftarrow \\mathbf{w} - \\alpha \\times \\mathbf{\\nabla_wE_{in}}$.\n",
    "\n",
    "Xét $\\alpha=1$:\n",
    "SGD mỗi mẫu $\\left(\\mathbf{x}^{(n)}, y^{(n)}\\right)$ cập nhật: $\\mathbf{w} \\leftarrow \\mathbf{w} -\\mathbf{\\nabla_wE_{in}}$.\n",
    "\n",
    "Ta có $E_{in}=\\frac{1}{N}\\sum_{n=1}^Ne_n$. Suy ra: $\\nabla_wE_{in} = \\nabla_w\\frac{1}{N}\\sum_{n=1}^Ne_n = \\frac{1}{N}\\sum_{n=1}^N\\nabla_w e_n$.\n",
    "\n",
    "Xét: $e_n = -min(0, y^{(n)}w^Tx^{(n)})$ \n",
    "\n",
    "- Với mẫu $\\left(\\mathbf{x}^{(n)}, y^{(n)}\\right)$ được phân lớp đúng $e_n = 0$ thì $\\nabla_w e_n = 0$. Suy ra: $\\nabla_wE_{in} = 0$, $\\mathbf{w} \\leftarrow \\mathbf{w} - 0 = \\mathbf{w}$\n",
    "\n",
    "- Với mẫu $\\left(\\mathbf{x}^{(n)}, y^{(n)}\\right)$ bị phân lớp sai $e_n = -y^{(n)}w^Tx^{(n)}$ thì $\\nabla_w e_n = -y^{(n)}x^{(n)}$. Suy ra: $\\nabla_wE_{in} = \\frac{1}{N}-Ny^{(n)}x^{(n)} = -y^{(n)}x^{(n)}$, $\\mathbf{w} \\leftarrow \\mathbf{w} -  (-y^{(n)}x^{(n)}) = \\mathbf{w} + y^{(n)}x^{(n)}$"
   ]
  },
  {
   "cell_type": "markdown",
   "metadata": {
    "deletable": false,
    "nbgrader": {
     "cell_type": "markdown",
     "checksum": "41cbf5c6d2b94eeae0a712be2181fef6",
     "grade": true,
     "grade_id": "c10",
     "locked": false,
     "points": 1,
     "schema_version": 3,
     "solution": true,
     "task": false
    }
   },
   "source": [
    "<font color = red>**Vậy em chọn câu $[e]\\space e_n(\\text{w}) = -min(0, y_n\\text{w}^\\text{T}\\text{x}_n))$**</font>"
   ]
  }
 ],
 "metadata": {
  "kernelspec": {
   "display_name": "Python 3",
   "language": "python",
   "name": "python3"
  },
  "language_info": {
   "codemirror_mode": {
    "name": "ipython",
    "version": 3
   },
   "file_extension": ".py",
   "mimetype": "text/x-python",
   "name": "python",
   "nbconvert_exporter": "python",
   "pygments_lexer": "ipython3",
   "version": "3.7.4"
  },
  "toc": {
   "base_numbering": 1,
   "nav_menu": {},
   "number_sections": true,
   "sideBar": true,
   "skip_h1_title": false,
   "title_cell": "Table of Contents",
   "title_sidebar": "Contents",
   "toc_cell": false,
   "toc_position": {},
   "toc_section_display": true,
   "toc_window_display": false
  },
  "varInspector": {
   "cols": {
    "lenName": 16,
    "lenType": 16,
    "lenVar": 40
   },
   "kernels_config": {
    "python": {
     "delete_cmd_postfix": "",
     "delete_cmd_prefix": "del ",
     "library": "var_list.py",
     "varRefreshCmd": "print(var_dic_list())"
    },
    "r": {
     "delete_cmd_postfix": ") ",
     "delete_cmd_prefix": "rm(",
     "library": "var_list.r",
     "varRefreshCmd": "cat(var_dic_list()) "
    }
   },
   "types_to_exclude": [
    "module",
    "function",
    "builtin_function_or_method",
    "instance",
    "_Feature"
   ],
   "window_display": false
  }
 },
 "nbformat": 4,
 "nbformat_minor": 4
}
