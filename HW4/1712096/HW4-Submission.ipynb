{
 "cells": [
  {
   "cell_type": "markdown",
   "metadata": {},
   "source": [
    "# Bài tập 4\n",
    "\n",
    "Đặng Hồng Minh - 1712096"
   ]
  },
  {
   "cell_type": "markdown",
   "metadata": {},
   "source": [
    "## Câu 1 (1 điểm)"
   ]
  },
  {
   "cell_type": "code",
   "execution_count": 1,
   "metadata": {},
   "outputs": [],
   "source": [
    "import numpy as np\n",
    "import math"
   ]
  },
  {
   "cell_type": "markdown",
   "metadata": {},
   "source": [
    "Ta có:\n",
    "${N \\geq \\frac{8}{\\epsilon^2}*ln(\\frac{4*(2*N)^{d_{vc}}+\\space4}{\\epsilon})}$"
   ]
  },
  {
   "cell_type": "code",
   "execution_count": 2,
   "metadata": {},
   "outputs": [],
   "source": [
    "def lowerbound(epsilon, dvc, sigma):\n",
    "    N = 1\n",
    "    for i in range(100):\n",
    "        N = 8/(epsilon*epsilon)*np.log((4*math.pow((2*N),dvc)+4)/sigma)\n",
    "    return N"
   ]
  },
  {
   "cell_type": "code",
   "execution_count": 3,
   "metadata": {},
   "outputs": [
    {
     "data": {
      "text/plain": [
       "452956.8647230992"
      ]
     },
     "execution_count": 3,
     "metadata": {},
     "output_type": "execute_result"
    }
   ],
   "source": [
    "lowerbound(0.05, 10, 0.05)"
   ]
  },
  {
   "cell_type": "markdown",
   "metadata": {},
   "source": [
    "Đáp án trên xấp xỉ 460000"
   ]
  },
  {
   "cell_type": "markdown",
   "metadata": {
    "deletable": false,
    "nbgrader": {
     "cell_type": "markdown",
     "checksum": "2e83d862b3c5fd4fb57d72c50e8115f8",
     "grade": true,
     "grade_id": "c1",
     "locked": false,
     "points": 1,
     "schema_version": 3,
     "solution": true,
     "task": false
    }
   },
   "source": [
    "<font color = red>**Vậy em chọn câu $[d]\\space 460000$** </font>"
   ]
  },
  {
   "cell_type": "markdown",
   "metadata": {},
   "source": [
    "## Câu 2 (1 điểm)"
   ]
  },
  {
   "cell_type": "code",
   "execution_count": 4,
   "metadata": {},
   "outputs": [
    {
     "name": "stdout",
     "output_type": "stream",
     "text": [
      "Original VC Bound: 0.632174915200836\n",
      "Rademacher Penalty Bound: 0.3424069399356495\n",
      "Parrondo and Van den Broek: 0.2236982936807856\n",
      "Devroye: 0.21522804980824667\n"
     ]
    }
   ],
   "source": [
    "N = 10000\n",
    "dvc = 50\n",
    "sigma = 0.05\n",
    "\n",
    "print(\"Original VC Bound:\", math.sqrt(8/N *np.log(4 * math.pow(2*N, dvc)/sigma)))\n",
    "\n",
    "print(\"Rademacher Penalty Bound:\", math.sqrt(2*np.log(math.pow(2*N, dvc + 1))/N) + math.sqrt(2*np.log(1/sigma)/N)+1/N)\n",
    "\n",
    "deltaC = math.pow(1, 2) - N * (-np.log(6*math.pow(2*N, dvc)/sigma))\n",
    "print(\"Parrondo and Van den Broek:\", (1 + math.sqrt(deltaC))/N)\n",
    "\n",
    "deltaD = math.pow(2, 2) - (2 * N - 4) * (-(np.log(80) + 100* np.log(N)))\n",
    "print(\"Devroye:\", (2 + math.sqrt(deltaD))/(2 * N - 4))"
   ]
  },
  {
   "cell_type": "markdown",
   "metadata": {},
   "source": [
    "Ta thấy Devroye là chặn trên nhỏ nhất"
   ]
  },
  {
   "cell_type": "markdown",
   "metadata": {
    "deletable": false,
    "nbgrader": {
     "cell_type": "markdown",
     "checksum": "47d4e2bb3e4812ef7b37e032a898cfec",
     "grade": true,
     "grade_id": "c2",
     "locked": false,
     "points": 1,
     "schema_version": 3,
     "solution": true,
     "task": false
    }
   },
   "source": [
    "<font color = red>**Vậy em chọn câu $[d]\\text{ Devroye: }\\epsilon\\leq\\sqrt{\\frac{1}{2N}(4\\epsilon(1 + \\epsilon)+ln\\frac{4m_{\\mathcal{H}}(N^2)}{\\delta})}$**</font>"
   ]
  },
  {
   "cell_type": "markdown",
   "metadata": {},
   "source": [
    "## Câu 3 (1 điểm)"
   ]
  },
  {
   "cell_type": "code",
   "execution_count": 5,
   "metadata": {},
   "outputs": [
    {
     "name": "stdout",
     "output_type": "stream",
     "text": [
      "Original VC Bound: 4.254597220000659\n",
      "Rademacher Penalty Bound: 2.813654929686762\n",
      "Parrondo and Van den Broek: 1.74395359699581\n",
      "Devroye: 2.264540762867992\n"
     ]
    }
   ],
   "source": [
    "N = 5\n",
    "dvc = 50\n",
    "sigma = 0.05\n",
    "\n",
    "print(\"Original VC Bound:\", math.sqrt(8/N *np.log(4 * math.pow(2, 2*N)/sigma)))\n",
    "\n",
    "print(\"Rademacher Penalty Bound:\", math.sqrt(2*np.log(2*N*math.pow(2, N))/N) + math.sqrt(2*np.log(1/sigma)/N)+1/N)\n",
    "\n",
    "deltaC = math.pow(1, 2) - N * (-np.log(6*math.pow(2, 2*N)/sigma))\n",
    "print(\"Parrondo and Van den Broek:\", (1 + math.sqrt(deltaC))/N)\n",
    "\n",
    "deltaD = math.pow(2, 2) - (2 * N - 4) * (-np.log(4 * math.pow(2, math.pow(N, 2))/sigma))\n",
    "print(\"Devroye:\", (2 + math.sqrt(deltaD))/(2 * N - 4))"
   ]
  },
  {
   "cell_type": "markdown",
   "metadata": {},
   "source": [
    "Ta thấy Parrondo and Van den Broek là chặn trên nhỏ nhất"
   ]
  },
  {
   "cell_type": "markdown",
   "metadata": {
    "deletable": false,
    "nbgrader": {
     "cell_type": "markdown",
     "checksum": "0997a909d9ab1f250c2bfd0645fee970",
     "grade": true,
     "grade_id": "c3",
     "locked": false,
     "points": 1,
     "schema_version": 3,
     "solution": true,
     "task": false
    }
   },
   "source": [
    "<font color = red>**Vậy em chọn câu $[c]\\text{ Parrondo and Van den Broek: }\\epsilon\\leq\\sqrt{\\frac{1}{N}(2\\epsilon+ln\\frac{6m_{\\mathcal{H}}(2N)}{\\delta}}$**</font>"
   ]
  },
  {
   "cell_type": "markdown",
   "metadata": {},
   "source": [
    "## Câu 4 (1 điểm)"
   ]
  },
  {
   "cell_type": "code",
   "execution_count": 6,
   "metadata": {},
   "outputs": [],
   "source": [
    "def generate_dataset(N):\n",
    "    X = np.random.uniform(-1, 1, (N, 1))\n",
    "    Y = np.sin(np.pi * X)\n",
    "    return X, Y\n",
    "generate_dataset(2)\n",
    "X, Y = generate_dataset(2)"
   ]
  },
  {
   "cell_type": "code",
   "execution_count": 7,
   "metadata": {},
   "outputs": [],
   "source": [
    "def linearRegression(X, Y):\n",
    "    A = np.dot(X.T, X)\n",
    "    b = np.dot(X.T, Y)\n",
    "    w = np.dot(np.linalg.pinv(A), b)\n",
    "    return w\n",
    "X, Y = generate_dataset(2)"
   ]
  },
  {
   "cell_type": "code",
   "execution_count": 8,
   "metadata": {},
   "outputs": [
    {
     "data": {
      "text/plain": [
       "1.417517396412545"
      ]
     },
     "execution_count": 8,
     "metadata": {},
     "output_type": "execute_result"
    }
   ],
   "source": [
    "def find_a_average(N):\n",
    "    a = np.zeros(N)\n",
    "    for i in range(N):\n",
    "        X, Y = generate_dataset(2)\n",
    "        a[i] = np.sum(linearRegression(X, Y))\n",
    "    return (np.mean(a))\n",
    "\n",
    "find_a_average(10000)"
   ]
  },
  {
   "cell_type": "markdown",
   "metadata": {},
   "source": [
    "${\\bar{a} \\approx 1.43}$ với N = 10000. Do đó không có giá trị nào ở trong đáp án thỏa."
   ]
  },
  {
   "cell_type": "markdown",
   "metadata": {
    "deletable": false,
    "nbgrader": {
     "cell_type": "markdown",
     "checksum": "efabab5c4035a6864ac8cb3e0061c6f0",
     "grade": true,
     "grade_id": "c4",
     "locked": false,
     "points": 1,
     "schema_version": 3,
     "solution": true,
     "task": false
    }
   },
   "source": [
    "<font color = red>**Vậy em chọn câu $[e]\\text{ None of the above}$**</font>"
   ]
  },
  {
   "cell_type": "markdown",
   "metadata": {},
   "source": [
    "## Câu 5 (1 điểm)"
   ]
  },
  {
   "cell_type": "code",
   "execution_count": 9,
   "metadata": {},
   "outputs": [],
   "source": [
    "#Tính bias và var cho hypothesis h(x) = ax\n",
    "def find_bias_var(N):\n",
    "    a = np.zeros(N)\n",
    "    f = []\n",
    "    X_arr = []\n",
    "    bias = 0\n",
    "    var = 0\n",
    "    for i in range(N):\n",
    "        X, Y = generate_dataset(2)\n",
    "        f.append([Y[0, 0],Y[1, 0]])\n",
    "        X_arr.append([X[0, 0], X[1, 0]])\n",
    "        a[i] = np.sum(linearRegression(X, Y))\n",
    "    a_bar = np.mean(a)\n",
    "    for i in range(N):\n",
    "        bias += math.pow(a_bar*X_arr[i][0] - f[i][0], 2) + math.pow(a_bar*X_arr[i][1] - f[i][1], 2)\n",
    "        var += math.pow((a[i] - a_bar) * X_arr[i][0], 2) + math.pow((a[i] - a_bar) * X_arr[i][1], 2)\n",
    "    bias /= (N * 2)\n",
    "    var /= (N * 2)\n",
    "    return bias, var"
   ]
  },
  {
   "cell_type": "code",
   "execution_count": 10,
   "metadata": {},
   "outputs": [
    {
     "name": "stdout",
     "output_type": "stream",
     "text": [
      "Bias:  0.266121911771383\n",
      "Var:  0.1983478142835858\n"
     ]
    }
   ],
   "source": [
    "res = find_bias_var(10000)\n",
    "print(\"Bias: \",res[0])\n",
    "print(\"Var: \",res[1])"
   ]
  },
  {
   "cell_type": "markdown",
   "metadata": {},
   "source": [
    "Giá trị của Bias gần với 0.3"
   ]
  },
  {
   "cell_type": "markdown",
   "metadata": {
    "deletable": false,
    "nbgrader": {
     "cell_type": "markdown",
     "checksum": "0b484b8390bec96142e8a1213ee8cd2c",
     "grade": true,
     "grade_id": "c5",
     "locked": false,
     "points": 1,
     "schema_version": 3,
     "solution": true,
     "task": false
    }
   },
   "source": [
    "<font color = red>**Vậy em chọn câu $[b]\\space 0.3$**</font>"
   ]
  },
  {
   "cell_type": "markdown",
   "metadata": {},
   "source": [
    "## Câu 6 (1 điểm)"
   ]
  },
  {
   "cell_type": "markdown",
   "metadata": {},
   "source": [
    "Giá trị của Var gần với 0.2"
   ]
  },
  {
   "cell_type": "markdown",
   "metadata": {
    "deletable": false,
    "nbgrader": {
     "cell_type": "markdown",
     "checksum": "26f542221236fb24d0ddbee584eed7d0",
     "grade": true,
     "grade_id": "c6",
     "locked": false,
     "points": 1,
     "schema_version": 3,
     "solution": true,
     "task": false
    }
   },
   "source": [
    "<font color = red>**Vậy em chọn câu $[a]\\space 0.2$**</font>"
   ]
  },
  {
   "cell_type": "markdown",
   "metadata": {},
   "source": [
    "## Câu 7 (1 điểm)"
   ]
  },
  {
   "cell_type": "code",
   "execution_count": 11,
   "metadata": {},
   "outputs": [],
   "source": [
    "#generate dataset for h(x) = b\n",
    "def generate_dataset_A():\n",
    "    Y = np.sin(np.pi * np.random.uniform(-1, 1, (2, 1)))\n",
    "    X = np.array([[1], [1]])\n",
    "    return X, Y"
   ]
  },
  {
   "cell_type": "code",
   "execution_count": 12,
   "metadata": {},
   "outputs": [],
   "source": [
    "#generate dataset for h(x) = ax + b \n",
    "def generate_dataset_B():\n",
    "    X = np.random.uniform(-1, 1, (2, 1))\n",
    "    Y = np.sin(np.pi * X)\n",
    "    X = np.hstack((np.ones((2, 1)), X))\n",
    "    return X, Y"
   ]
  },
  {
   "cell_type": "code",
   "execution_count": 13,
   "metadata": {},
   "outputs": [],
   "source": [
    "#generate dataset for h(x) = ax^2\n",
    "def generate_dataset_C():\n",
    "    X = np.random.uniform(-1, 1, (2, 1))\n",
    "    X = X*X #Tạo X^2\n",
    "    Y = np.sin(np.pi * X)\n",
    "    return X, Y"
   ]
  },
  {
   "cell_type": "code",
   "execution_count": 14,
   "metadata": {},
   "outputs": [],
   "source": [
    "#generate dataset for h(x) = ax^2 + b\n",
    "def generate_dataset_D():\n",
    "    X = np.random.uniform(-1, 1, (2, 1))\n",
    "    X = X*X # Tạo x^2\n",
    "    Y = np.sin(np.pi * X) #Tính Y theo X\n",
    "    X = np.hstack((np.ones((2, 1)), X)) # Thêm một cột 1 vào X\n",
    "    return X, Y"
   ]
  },
  {
   "cell_type": "code",
   "execution_count": 15,
   "metadata": {},
   "outputs": [],
   "source": [
    "#find E[Eout] for h(x) = b\n",
    "def find_E_Eout_h1(N):\n",
    "    a_arr = np.zeros(N) # Danh sách các g_d được phát sinh\n",
    "    f = [] # chứa f(x)\n",
    "    X_arr = [] # chứa x\n",
    "    Bias = 0\n",
    "    Var = 0\n",
    "    for i in range(N):\n",
    "        X, Y = generate_dataset_A()\n",
    "        f.append([Y[0, 0],Y[1, 0]])\n",
    "        X_arr.append([X[0, 0], X[1, 0]])\n",
    "        a_arr[i] = np.sum(linearRegression(X, Y))\n",
    "    a_bar = np.mean(a_arr)\n",
    "    for i in range(N):\n",
    "        Bias += math.pow(a_bar - f[i][0], 2) + math.pow(a_bar - f[i][1], 2)\n",
    "        Var += math.pow((a_arr[i]) * X_arr[i][0] - a_bar, 2) + math.pow((a_arr[i]) * X_arr[i][1]  - a_bar, 2)\n",
    "    Bias /= (N * 2)\n",
    "    Var /= (N * 2)\n",
    "    return Bias + Var"
   ]
  },
  {
   "cell_type": "code",
   "execution_count": 16,
   "metadata": {},
   "outputs": [],
   "source": [
    "#find E[Eout] for h(x) = ax \n",
    "def find_E_Eout_h2(N):\n",
    "    a_arr = np.zeros(N) # Danh sách các g_d được phát sinh\n",
    "    f = [] # chứa f(x)\n",
    "    X_arr = [] # chứa x\n",
    "    Bias = 0\n",
    "    Var = 0\n",
    "    for i in range(N):\n",
    "        X, Y = generate_dataset(2)\n",
    "        f.append([Y[0, 0],Y[1, 0]])\n",
    "        X_arr.append([X[0, 0], X[1, 0]])\n",
    "        a_arr[i] = np.sum(linearRegression(X, Y))\n",
    "    a_bar = np.mean(a_arr)\n",
    "    for i in range(N):\n",
    "        Bias += math.pow(a_bar*X_arr[i][0] - f[i][0], 2) + math.pow(a_bar*X_arr[i][1] - f[i][1], 2)\n",
    "        Var += math.pow((a_arr[i] - a_bar) * X_arr[i][0], 2) + math.pow((a_arr[i] - a_bar) * X_arr[i][1], 2)\n",
    "    Bias /= (N * 2)\n",
    "    Var /= (N * 2)\n",
    "    return Bias + Var"
   ]
  },
  {
   "cell_type": "code",
   "execution_count": 17,
   "metadata": {},
   "outputs": [],
   "source": [
    "#find E[Eout] for h(x) = ax + b\n",
    "def find_E_Eout_h3(N):\n",
    "    g_arr = [] # Danh sách các g_d được phát sinh\n",
    "    f = [] # chứa f(x)\n",
    "    X_arr = [] # chứa x\n",
    "    Bias = 0\n",
    "    Var = 0\n",
    "    for i in range(N):\n",
    "        X, Y = generate_dataset_B()\n",
    "        f.append([Y[0, 0],Y[1, 0]])\n",
    "        X_arr.append([X[0, 1], X[1, 1]])\n",
    "        g_arr.append(linearRegression(X, Y).reshape(1, 2))\n",
    "    g_bar = np.mean(g_arr, 0)\n",
    "    for i in range(N):\n",
    "        # Bias = Ex[(g_bar(x) - f(x))^2]\n",
    "        Bias += math.pow(g_bar[0][0]+ X_arr[i][0] * g_bar[0][1] - f[i][0], 2) + math.pow(g_bar[0][0] + X_arr[i][1] * g_bar[0][1]- f[i][1], 2)\n",
    "        #Var = Ex[Ed[(gd(x) - g_bar(x))^2]]\n",
    "        Var += math.pow((g_arr[i][0][1] - g_bar[0][1]) * X_arr[i][0], 2) + math.pow((g_arr[i][0][1] - g_bar[0][1]) * X_arr[i][1], 2)\n",
    "    Bias /= (N * 2)\n",
    "    Var /= (N * 2)\n",
    "    return Bias + Var"
   ]
  },
  {
   "cell_type": "code",
   "execution_count": 18,
   "metadata": {},
   "outputs": [],
   "source": [
    "#find E[Eout] for h(x) = ax^2\n",
    "def find_E_Eout_h4(N):\n",
    "    a_arr = np.zeros(N) # Danh sách các g_d được phát sinh\n",
    "    f = [] # chứa f(x)\n",
    "    X_arr = [] # chứa x\n",
    "    Bias = 0\n",
    "    Var = 0\n",
    "    for i in range(N):\n",
    "        X, Y = generate_dataset_C()\n",
    "        f.append([Y[0, 0],Y[1, 0]])\n",
    "        X_arr.append([X[0, 0], X[1, 0]])\n",
    "        a_arr[i] = np.sum(linearRegression(X, Y))\n",
    "    a_bar = np.mean(a_arr)\n",
    "    for i in range(N):\n",
    "        Bias += math.pow(a_bar*X_arr[i][0] - f[i][0], 2) + math.pow(a_bar*X_arr[i][1] - f[i][1], 2)\n",
    "        Var += math.pow((a_arr[i] - a_bar) * X_arr[i][0], 2) + math.pow((a_arr[i] - a_bar) * X_arr[i][1], 2)\n",
    "    Bias /= (N * 2)\n",
    "    Var /= (N * 2)\n",
    "    return Bias + Var"
   ]
  },
  {
   "cell_type": "code",
   "execution_count": 19,
   "metadata": {},
   "outputs": [],
   "source": [
    "#find E[Eout] for h(x) = ax^2 + b\n",
    "def find_E_Eout_h5(N):\n",
    "    g_arr = [] # Danh sách các g_d được phát sinh\n",
    "    f = [] # chứa f(x)\n",
    "    X_arr = [] # chứa x\n",
    "    Bias = 0\n",
    "    Var = 0\n",
    "    for i in range(N):\n",
    "        X, Y = generate_dataset_D()\n",
    "        f.append([Y[0, 0],Y[1, 0]])\n",
    "        X_arr.append([X[0, 1], X[1, 1]])\n",
    "        g_arr.append(linearRegression(X, Y).reshape(1, 2))\n",
    "    g_bar = np.mean(g_arr, 0)\n",
    "    for i in range(N):\n",
    "        Bias += math.pow(g_bar[0][0]+ X_arr[i][1] * g_bar[0][1] - f[i][0], 2) #+ math.pow(g_bar[0][0] + X_arr[i][1] * g_bar[0][1]- f[i][1], 2)\n",
    "        Var += math.pow((g_arr[i][0][1] - g_bar[0][1]) * X_arr[i][0], 2) #+ math.pow((g_arr[i][0][1] - g_bar[0][1]) * X_arr[i][1], 2)\n",
    "    Bias /= (N * 2)\n",
    "    Var /= (N * 2)\n",
    "    return Bias + Var"
   ]
  },
  {
   "cell_type": "code",
   "execution_count": 20,
   "metadata": {},
   "outputs": [
    {
     "data": {
      "text/plain": [
       "0.7511859531323755"
      ]
     },
     "execution_count": 20,
     "metadata": {},
     "output_type": "execute_result"
    }
   ],
   "source": [
    "find_E_Eout_h1(10000)"
   ]
  },
  {
   "cell_type": "code",
   "execution_count": 21,
   "metadata": {},
   "outputs": [
    {
     "data": {
      "text/plain": [
       "0.4698561294423008"
      ]
     },
     "execution_count": 21,
     "metadata": {},
     "output_type": "execute_result"
    }
   ],
   "source": [
    "find_E_Eout_h2(10000)"
   ]
  },
  {
   "cell_type": "code",
   "execution_count": 22,
   "metadata": {},
   "outputs": [
    {
     "data": {
      "text/plain": [
       "1.1471152338867479"
      ]
     },
     "execution_count": 22,
     "metadata": {},
     "output_type": "execute_result"
    }
   ],
   "source": [
    "find_E_Eout_h3(10000)"
   ]
  },
  {
   "cell_type": "code",
   "execution_count": 23,
   "metadata": {},
   "outputs": [
    {
     "data": {
      "text/plain": [
       "0.5294572158502202"
      ]
     },
     "execution_count": 23,
     "metadata": {},
     "output_type": "execute_result"
    }
   ],
   "source": [
    "find_E_Eout_h4(10000)"
   ]
  },
  {
   "cell_type": "code",
   "execution_count": 24,
   "metadata": {},
   "outputs": [
    {
     "data": {
      "text/plain": [
       "0.6119498937658584"
      ]
     },
     "execution_count": 24,
     "metadata": {},
     "output_type": "execute_result"
    }
   ],
   "source": [
    "find_E_Eout_h5(10000)"
   ]
  },
  {
   "cell_type": "markdown",
   "metadata": {},
   "source": [
    "Kết quả của 5 hàm trên là kết quả của $E[E_{out}]$ ở mỗi câu a, b, c, d, e\\\n",
    "Giá trị $E[E_{out}]$ nhỏ nhất là $E[E_{out}]\\approx0.47$ tương ứng với ${h(x) = ax}$"
   ]
  },
  {
   "cell_type": "markdown",
   "metadata": {
    "deletable": false,
    "nbgrader": {
     "cell_type": "markdown",
     "checksum": "322a244b0fae3a20ec568a5099aaaec1",
     "grade": true,
     "grade_id": "c7",
     "locked": false,
     "points": 1,
     "schema_version": 3,
     "solution": true,
     "task": false
    }
   },
   "source": [
    "<font color = red>**Vậy em chọn câu $[b]\\space h(x)= ax$**</font>"
   ]
  },
  {
   "cell_type": "markdown",
   "metadata": {},
   "source": [
    "## Câu 8 (1 điểm)"
   ]
  },
  {
   "cell_type": "markdown",
   "metadata": {},
   "source": [
    "Ta có:\n",
    "- $m_\\mathcal{H}(1)=2$\n",
    "- $m_\\mathcal{H}(N+1) = 2m_\\mathcal{H}(N) - \\binom{N}{q}$ với $q$ là một số nguyên cố định $\\ge1$\\\n",
    "Hay: $m_\\mathcal{H}(N) = 2m_\\mathcal{H}(N-1) - \\binom{N-1}{q}$\n",
    "\n",
    "Ta có:\n",
    "\n",
    "${m_H(2) = 2*m_H(1) - \\binom{2 - 1}{q} = 4 - \\binom{1}{q}}$ muốn chưa break thì ${q\\gt1}$\n",
    "\n",
    "${m_H(3) = 2*m_H(2) - \\binom{3 - 1}{q} = 8 - \\binom{2}{q}}$ muốn chưa break thì ${q\\gt2}$\\\n",
    "\n",
    "${m_H(4) = 2*m_H(3) - \\binom{4-1}{q} = 16 - \\binom{3}{q}}$ muốn chưa break thì ${q\\gt3}$\\\n",
    "...\\\n",
    "${m_H(N) = 2*m_H(N-1) - \\binom{N-1}{q} = 2^N- \\binom{N-1}{q}}$ muốn chưa break thì ${q\\gt N-1}$\\\n",
    "\n",
    "Suy ra: $N \\lt q + 1 => N \\leq q$. Mà theo định nghĩa $d_{VC}$ là giá trị N lớn nhất mà sao cho vẫn ${m_H(N) = 2^N}$\n",
    "\n",
    "Do đó: $d_{VC} = q$ thỏa growth function trên."
   ]
  },
  {
   "cell_type": "markdown",
   "metadata": {
    "deletable": false,
    "nbgrader": {
     "cell_type": "markdown",
     "checksum": "d81773f072cd15e4a27b6cd240a5d990",
     "grade": true,
     "grade_id": "c8",
     "locked": false,
     "points": 1,
     "schema_version": 3,
     "solution": true,
     "task": false
    }
   },
   "source": [
    "<font color = red>**Vậy em chọn câu $[c]\\space q$**</font>"
   ]
  },
  {
   "cell_type": "markdown",
   "metadata": {},
   "source": [
    "## Câu 9 (1 điểm)"
   ]
  },
  {
   "cell_type": "markdown",
   "metadata": {},
   "source": [
    "Sự giao nhau giữa các Hypothesis sets ${\\left(\\bigcap_{k = 1}^K\\mathcal{H}_k\\right)}$. Ta có thể thấy rằng, $d_{VC}$ của các $\\mathcal{H}$ giao nhau luôn nhỏ hơn hoặc bằng ${d_{VC}}$ của mỗi $\\mathcal{H}$ \n",
    "\n",
    "$$\n",
    "d_{VC}\\left(\\bigcap_{k = 1}^K\\mathcal{H}_k\\right) \\leq d_{VC} (\\mathcal{H}_k)_{k=1}^K\n",
    "$$\n",
    "\n",
    "Ta dễ dàng thấy được, chặn trên chặt nhất (tightest bound) sẽ là $\\min\\left\\{d_{VC} (\\mathcal{H}_k)\\right\\}_{k=1}^K$.\n",
    "\n",
    "Ta thấy chặn dưới là 0 khi các $\\mathcal{H}_k$ giao nhau bằng rỗng.\n",
    "\n",
    "Vì vậy, $0\\leq d_{VC}\\left(\\bigcap_{k = 1}^K\\mathcal{H}_k\\right) \\leq \\min\\left\\{d_{VC} (\\mathcal{H}_k)\\right\\}_{k=1}^K$"
   ]
  },
  {
   "cell_type": "markdown",
   "metadata": {
    "deletable": false,
    "nbgrader": {
     "cell_type": "markdown",
     "checksum": "e814a2db0b8a53e4fddfee4bcbf405fc",
     "grade": true,
     "grade_id": "c9",
     "locked": false,
     "points": 1,
     "schema_version": 3,
     "solution": true,
     "task": false
    }
   },
   "source": [
    "<font color = red>**Vậy em chọn câu $[b]\\space0\\leq d_{VC}\\left(\\bigcap_{k = 1}^K\\mathcal{H}_k\\right) \\leq \\min\\left\\{d_{VC} (\\mathcal{H}_k)\\right\\}_{k=1}^K$**</font>"
   ]
  },
  {
   "cell_type": "markdown",
   "metadata": {},
   "source": [
    "## Câu 10 (1 điểm)"
   ]
  },
  {
   "cell_type": "markdown",
   "metadata": {
    "deletable": false,
    "nbgrader": {
     "cell_type": "markdown",
     "checksum": "41cbf5c6d2b94eeae0a712be2181fef6",
     "grade": true,
     "grade_id": "c10",
     "locked": false,
     "points": 1,
     "schema_version": 3,
     "solution": true,
     "task": false
    }
   },
   "source": [
    "YOUR ANSWER HERE"
   ]
  }
 ],
 "metadata": {
  "kernelspec": {
   "display_name": "Python 3",
   "language": "python",
   "name": "python3"
  },
  "language_info": {
   "codemirror_mode": {
    "name": "ipython",
    "version": 3
   },
   "file_extension": ".py",
   "mimetype": "text/x-python",
   "name": "python",
   "nbconvert_exporter": "python",
   "pygments_lexer": "ipython3",
   "version": "3.7.4"
  },
  "toc": {
   "base_numbering": 1,
   "nav_menu": {},
   "number_sections": true,
   "sideBar": true,
   "skip_h1_title": false,
   "title_cell": "Table of Contents",
   "title_sidebar": "Contents",
   "toc_cell": false,
   "toc_position": {},
   "toc_section_display": true,
   "toc_window_display": false
  },
  "varInspector": {
   "cols": {
    "lenName": 16,
    "lenType": 16,
    "lenVar": 40
   },
   "kernels_config": {
    "python": {
     "delete_cmd_postfix": "",
     "delete_cmd_prefix": "del ",
     "library": "var_list.py",
     "varRefreshCmd": "print(var_dic_list())"
    },
    "r": {
     "delete_cmd_postfix": ") ",
     "delete_cmd_prefix": "rm(",
     "library": "var_list.r",
     "varRefreshCmd": "cat(var_dic_list()) "
    }
   },
   "types_to_exclude": [
    "module",
    "function",
    "builtin_function_or_method",
    "instance",
    "_Feature"
   ],
   "window_display": false
  }
 },
 "nbformat": 4,
 "nbformat_minor": 4
}
