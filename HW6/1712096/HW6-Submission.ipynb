{
 "cells": [
  {
   "cell_type": "markdown",
   "metadata": {},
   "source": [
    "# Bài tập 6\n",
    "\n",
    "Đặng Hồng Minh - 1712096"
   ]
  },
  {
   "cell_type": "markdown",
   "metadata": {},
   "source": [
    "## Câu 1 (1 điểm)"
   ]
  },
  {
   "cell_type": "markdown",
   "metadata": {},
   "source": [
    "Định nghĩa của deterministic noise (slide của Thầy Yaser, lecture 11 - overfitting, trang 16): \"The part of $f$ that $\\mathcal H$ cannot capture: $f(\\mathbf{x}) − h^∗(\\mathbf{x})$\". Trong đó, $h^*(\\mathbf{x})$ là hàm tốt nhất của $\\mathcal H$ dùng để xấp xỉ $f$.\n",
    "\n",
    "Ta thấy rằng $\\mathcal{H}' \\subset \\mathcal{H}$, cho nên hàm $h^∗(\\mathbf{x})$ của $\\mathcal H'$ sẽ không tốt bằng $\\mathcal H$. Mà phần của $f$ mà $\\mathcal H'$ cannot capture: $f(\\mathbf{x}) − h^∗(\\mathbf{x})$ sẽ lớn hơn so với $\\mathcal H$.\n",
    "\n",
    "\"Deterministic noise\" của $\\mathcal H'$ sẽ tăng so với $\\mathcal H$"
   ]
  },
  {
   "cell_type": "markdown",
   "metadata": {
    "deletable": false,
    "nbgrader": {
     "cell_type": "markdown",
     "checksum": "2e83d862b3c5fd4fb57d72c50e8115f8",
     "grade": true,
     "grade_id": "c1",
     "locked": false,
     "points": 1,
     "schema_version": 3,
     "solution": true,
     "task": false
    }
   },
   "source": [
    "<font color = red>**Vậy em chọn câu $[b]\\text{ In general, deterministic noise will increase.}$**</font>"
   ]
  },
  {
   "cell_type": "markdown",
   "metadata": {},
   "source": [
    "## Câu 2 (1 điểm)"
   ]
  },
  {
   "cell_type": "code",
   "execution_count": 1,
   "metadata": {},
   "outputs": [],
   "source": [
    "import numpy as np"
   ]
  },
  {
   "cell_type": "code",
   "execution_count": 2,
   "metadata": {},
   "outputs": [],
   "source": [
    "#Load train data\n",
    "train_data = np.loadtxt(\"in.dta\")\n",
    "m, n = train_data.shape\n",
    "train_X = train_data[:,0:2].reshape(m, 2)\n",
    "train_Y = train_data[:,2].reshape(m, 1)\n",
    "\n",
    "#Load test data\n",
    "test_data = np.loadtxt(\"out.dta\")\n",
    "m, n = test_data.shape\n",
    "\n",
    "test_X = test_data[:,0:2].reshape(m, 2)\n",
    "test_Y = test_data[:,2].reshape(m, 1)"
   ]
  },
  {
   "cell_type": "code",
   "execution_count": 3,
   "metadata": {},
   "outputs": [],
   "source": [
    "#Hàm biến đổi non-linear dữ liệu sang không gian Z\n",
    "def nonLinearTransform(X):\n",
    "    N = X.shape[0]\n",
    "    X_2 = X*X\n",
    "    X1X2 = np.prod(X, axis = 1).reshape(N,1)\n",
    "    absSub = np.abs(np.subtract(X[:,0], X[:, 1])).reshape(N, 1)\n",
    "    absAdd = np.abs(np.add(X[:, 0], X[:, 1])).reshape(N, 1)\n",
    "    X_nonlinear = np.hstack((np.ones((N, 1)), X, X_2, X1X2, absSub, absAdd)) \n",
    "    return X_nonlinear\n",
    "\n",
    "Z = nonLinearTransform(train_X) # sử dụng để train và tính E_in\n",
    "Z_test = nonLinearTransform(test_X) # Sử dụng để kiểm tra E_out"
   ]
  },
  {
   "cell_type": "code",
   "execution_count": 4,
   "metadata": {},
   "outputs": [],
   "source": [
    "#Hàm tính w regularization\n",
    "def calculate_w_reg(Z, y, lamda):\n",
    "    shape= Z.shape\n",
    "    A = np.linalg.inv(np.dot(Z.T, Z) + lamda*np.eye(shape[1]))\n",
    "    B = np.dot(Z.T, y)\n",
    "    w_reg = np.dot(A, B)\n",
    "    return w_reg"
   ]
  },
  {
   "cell_type": "code",
   "execution_count": 5,
   "metadata": {},
   "outputs": [],
   "source": [
    "#Hàm linear_regression với tham số lamda\n",
    "def linear_regression(lamda, mode = 0):\n",
    "    w_reg = calculate_w_reg(Z, train_Y, lamda) # Tính w regularization theo công thức bằng hàm calculate_w_reg\n",
    "    test_err_out = np.mean(np.sign(np.dot(Z_test,w_reg)) != test_Y) # Tính độ lỗi nhị phân trên tập test E_out \n",
    "    test_err_in = np.mean(np.sign(np.dot(Z,w_reg)) != train_Y) # Tính độ lỗi nhị phân trên tập train E_in\n",
    "    if mode == 0:\n",
    "        print(\"E_in = \",test_err_in)\n",
    "        print(\"E_out =\", test_err_out)\n",
    "    else:\n",
    "        return test_err_in, test_err_out"
   ]
  },
  {
   "cell_type": "code",
   "execution_count": 6,
   "metadata": {},
   "outputs": [
    {
     "name": "stdout",
     "output_type": "stream",
     "text": [
      "E_in =  0.02857142857142857\n",
      "E_out = 0.084\n"
     ]
    }
   ],
   "source": [
    "linear_regression(0)"
   ]
  },
  {
   "cell_type": "markdown",
   "metadata": {},
   "source": [
    "$E_{in} \\approx 0.03$ và $E_{out} \\approx 0.08$"
   ]
  },
  {
   "cell_type": "markdown",
   "metadata": {
    "deletable": false,
    "nbgrader": {
     "cell_type": "markdown",
     "checksum": "47d4e2bb3e4812ef7b37e032a898cfec",
     "grade": true,
     "grade_id": "c2",
     "locked": false,
     "points": 1,
     "schema_version": 3,
     "solution": true,
     "task": false
    }
   },
   "source": [
    "<font color = red>**Vậy em chọn câu $[a]\\space 0.03, 0.08$**</font>"
   ]
  },
  {
   "cell_type": "markdown",
   "metadata": {},
   "source": [
    "## Câu 3 (1 điểm)"
   ]
  },
  {
   "cell_type": "markdown",
   "metadata": {},
   "source": [
    "Với $k=-3 \\Rightarrow$ $\\lambda = 0.001$"
   ]
  },
  {
   "cell_type": "code",
   "execution_count": 7,
   "metadata": {},
   "outputs": [
    {
     "name": "stdout",
     "output_type": "stream",
     "text": [
      "E_in =  0.02857142857142857\n",
      "E_out = 0.08\n"
     ]
    }
   ],
   "source": [
    "linear_regression(0.001)"
   ]
  },
  {
   "cell_type": "markdown",
   "metadata": {},
   "source": [
    "$E_{in} \\approx 0.03$ và $E_{out} \\approx 0.08$"
   ]
  },
  {
   "cell_type": "markdown",
   "metadata": {
    "deletable": false,
    "nbgrader": {
     "cell_type": "markdown",
     "checksum": "0997a909d9ab1f250c2bfd0645fee970",
     "grade": true,
     "grade_id": "c3",
     "locked": false,
     "points": 1,
     "schema_version": 3,
     "solution": true,
     "task": false
    }
   },
   "source": [
    "<font color = red>**Vậy em chọn câu $[d]\\space 0.03, 0.08$**</font>"
   ]
  },
  {
   "cell_type": "markdown",
   "metadata": {},
   "source": [
    "## Câu 4 (1 điểm)"
   ]
  },
  {
   "cell_type": "markdown",
   "metadata": {},
   "source": [
    "Với $k=3 \\Rightarrow \\lambda=1000$"
   ]
  },
  {
   "cell_type": "code",
   "execution_count": 8,
   "metadata": {},
   "outputs": [
    {
     "name": "stdout",
     "output_type": "stream",
     "text": [
      "E_in =  0.37142857142857144\n",
      "E_out = 0.436\n"
     ]
    }
   ],
   "source": [
    "linear_regression(1000)"
   ]
  },
  {
   "cell_type": "markdown",
   "metadata": {},
   "source": [
    "$E_{in} \\approx 0.4$ và $E_{out} \\approx 0.4$"
   ]
  },
  {
   "cell_type": "markdown",
   "metadata": {
    "deletable": false,
    "nbgrader": {
     "cell_type": "markdown",
     "checksum": "efabab5c4035a6864ac8cb3e0061c6f0",
     "grade": true,
     "grade_id": "c4",
     "locked": false,
     "points": 1,
     "schema_version": 3,
     "solution": true,
     "task": false
    }
   },
   "source": [
    "<font color = red>**Vậy em chọn câu $[e]\\space 0.4, 0.4$**</font>"
   ]
  },
  {
   "cell_type": "markdown",
   "metadata": {},
   "source": [
    "## Câu 5 (1 điểm)"
   ]
  },
  {
   "cell_type": "code",
   "execution_count": 9,
   "metadata": {},
   "outputs": [
    {
     "name": "stdout",
     "output_type": "stream",
     "text": [
      "k = 2, lamda = 100 => E_out:  0.228\n",
      "k = 1, lamda = 10 => E_out:  0.124\n",
      "k = 0, lamda = 1 => E_out:  0.092\n",
      "k = -1, lamda = 0.1 => E_out:  0.056\n",
      "k = -2, lamda = 0.01 => E_out:  0.084\n"
     ]
    }
   ],
   "source": [
    "res = []\n",
    "#k = 2, lamda = 100\n",
    "res = linear_regression(100,1)\n",
    "print(\"k = 2, lamda = 100 => E_out: \",res[1])\n",
    "\n",
    "#k = 1, lamda = 10\n",
    "res = linear_regression(10,1)\n",
    "print(\"k = 1, lamda = 10 => E_out: \",res[1])\n",
    "\n",
    "#k = 0, lamda = 1\n",
    "res = linear_regression(1,1)\n",
    "print(\"k = 0, lamda = 1 => E_out: \",res[1])\n",
    "\n",
    "#k = -1, lamda = 0.1\n",
    "res = linear_regression(0.1,1)\n",
    "print(\"k = -1, lamda = 0.1 => E_out: \",res[1])\n",
    "\n",
    "#k = -2, lamda = 0.01\n",
    "res = linear_regression(0.01,1)\n",
    "print(\"k = -2, lamda = 0.01 => E_out: \",res[1])"
   ]
  },
  {
   "cell_type": "markdown",
   "metadata": {},
   "source": [
    "Giá trị $E_{out}$ nhỏ nhất khi $k=-1$"
   ]
  },
  {
   "cell_type": "markdown",
   "metadata": {
    "deletable": false,
    "nbgrader": {
     "cell_type": "markdown",
     "checksum": "0b484b8390bec96142e8a1213ee8cd2c",
     "grade": true,
     "grade_id": "c5",
     "locked": false,
     "points": 1,
     "schema_version": 3,
     "solution": true,
     "task": false
    }
   },
   "source": [
    "<font color = red>**Vậy em chọn câu $[d] -1$**</font>"
   ]
  },
  {
   "cell_type": "markdown",
   "metadata": {},
   "source": [
    "## Câu 6 (1 điểm)"
   ]
  },
  {
   "cell_type": "code",
   "execution_count": 10,
   "metadata": {},
   "outputs": [],
   "source": [
    "import math\n",
    "#Ham main cau 6\n",
    "def mainrun_6():\n",
    "    E_outs = []\n",
    "    k = -10\n",
    "    min = [k, 1000]\n",
    "    while (k < 10):\n",
    "        E_outs.append(linear_regression(math.pow(10, k), 1)[1])\n",
    "        if min[1] > E_outs[len(E_outs) - 1]:\n",
    "            min[1] = E_outs[len(E_outs) - 1]\n",
    "            min[0] = k\n",
    "        k += 1\n",
    "    return min"
   ]
  },
  {
   "cell_type": "code",
   "execution_count": 11,
   "metadata": {},
   "outputs": [
    {
     "name": "stdout",
     "output_type": "stream",
     "text": [
      "k min:  -1 ,E_out min:  0.056\n"
     ]
    }
   ],
   "source": [
    "res = mainrun_6()\n",
    "print(\"k min: \",res[0],\",E_out min: \",res[1])"
   ]
  },
  {
   "cell_type": "markdown",
   "metadata": {},
   "source": [
    "Với $k \\in [-10,10]$ ta vẫn nhận được $E_{out} \\approx 0.06$"
   ]
  },
  {
   "cell_type": "markdown",
   "metadata": {
    "deletable": false,
    "nbgrader": {
     "cell_type": "markdown",
     "checksum": "26f542221236fb24d0ddbee584eed7d0",
     "grade": true,
     "grade_id": "c6",
     "locked": false,
     "points": 1,
     "schema_version": 3,
     "solution": true,
     "task": false
    }
   },
   "source": [
    "<font color = red>**Vậy em chọn câu $[b]\\space 0.06$**</font>"
   ]
  },
  {
   "cell_type": "markdown",
   "metadata": {},
   "source": [
    "## Câu 7 (1 điểm)"
   ]
  },
  {
   "cell_type": "markdown",
   "metadata": {},
   "source": [
    "Ta có:\n",
    "\n",
    "$\\mathcal{H}(10, 0, 3) = w_0 + w_1*L_1(x)+w_2*L_2(x)$\n",
    "\n",
    "$\\mathcal{H}(10, 0, 4) = w_0 + w_1*L_1(x)+w_2*L_2(x) + w_3*L_3(x)$\n",
    "\n",
    "$\\mathcal{H}(10, 1, 3) = w_0 + w_1*L_1(x)+w_2*L_2(x) + L_3 + L_4 + L_5 + L_6 + L_7 + L_8 + L_9 + L_{10}$\n",
    "\n",
    "$\\mathcal{H}(10, 1, 4) = w_0 + w_1*L_1(x)+w_2*L_2(x) + w_3*L_3(x) + L_4 + L_5 + L_6 + L_7 + L_8 + L_9 + L_{10}$"
   ]
  },
  {
   "cell_type": "markdown",
   "metadata": {},
   "source": [
    "$\\mathcal{H}(10, 0, 3) \\cup \\mathcal{H}(10, 0, 4) = w_0 + w_1*L_1(x)+w_2*L_2(x) + w_3*L_3(x) = \\mathcal{H}_3$ (không thỏa $\\mathcal{H}_4$)\n",
    "\n",
    "$\\mathcal{H}(10, 1, 3) \\cup \\mathcal{H}(10, 1, 4) = w_0 + w_1*L_1(x)+w_2*L_2(x) + (w_3)*L_3(x) + L_4 + L_5 + L_6 + L_7 + L_8 + L_9 + L_{10} = \\mathcal{H}_{10}$ (không thỏa $\\mathcal{H}_3$)\n",
    "\n",
    "$\\mathcal{H}(10, 0, 3) \\cap \\mathcal{H}(10, 0, 4) = w_0 + w_1*L_1(x)+w_2*L_2(x) = \\mathcal{H}_2$ (thỏa)\n",
    "\n",
    "$\\mathcal{H}(10, 1, 3) \\cap \\mathcal{H}(10, 1, 4) = w_0 + w_1*L_1(x)+w_2*L_2(x) + L_3(x) + L_4 + L_5 + L_6 + L_7 + L_8 + L_9 + L_{10} = \\mathcal{H}_{10}$\n",
    "(không thỏa $\\mathcal{H}_1$)"
   ]
  },
  {
   "cell_type": "markdown",
   "metadata": {
    "deletable": false,
    "nbgrader": {
     "cell_type": "markdown",
     "checksum": "322a244b0fae3a20ec568a5099aaaec1",
     "grade": true,
     "grade_id": "c7",
     "locked": false,
     "points": 1,
     "schema_version": 3,
     "solution": true,
     "task": false
    }
   },
   "source": [
    "<font color = red>**Vậy em chọn câu $[c]\\space\\mathcal{H}(10, 0, 3) \\cap \\mathcal{H}(10, 0, 4) = w_0 + w_1*L_1(x)+w_2*L_2(x) = \\mathcal{H}_2$**</font>"
   ]
  },
  {
   "cell_type": "markdown",
   "metadata": {},
   "source": [
    "## Câu 8 (1 điểm)"
   ]
  },
  {
   "cell_type": "markdown",
   "metadata": {},
   "source": [
    "1. Bắt đầu từ véc-tơ input $\\mathbf{x}$, thực hiện lan truyền tiến qua các tầng của mạng để tính ra các giá trị đầu ra $a$ của các nơ-ron. Quá trình forward số phép tính $w^{(l)}_{ij}a^{(l-1)}_i$: 6 * 3 + 4 = 22 (Vì ở tầng 0 có 6 nút tính luôn cả (+1) fully-connected với tầng 1 là 6 * 3, tầng 1 có 4 nút tính luôn cả (+1) fully-connected với tầng 2 là 4 * 1).\n",
    "\n",
    "2. Từ $\\delta$ ở tầng cuối, thực hiện lan truyền ngược để tính $\\delta$ của các nơ-ron ở các tầng trước đó. \n",
    "\n",
    "    Tính $\\delta^{(1)}$, vì tầng 2 là tầng output chỉ có 1 nút:\n",
    "    + $\\delta_0^{(1)} = \\delta_1^{(2)}*w_{01}^{(2)}$\n",
    "    + $\\delta_1^{(1)} = \\delta_1^{(2)}*w_{11}^{(2)}$\n",
    "    + $\\delta_2^{(1)} = \\delta_1^{(2)}*w_{21}^{(2)}$\n",
    "    + $\\delta_3^{(1)} = \\delta_1^{(2)}*w_{31}^{(2)}$\n",
    "    Suy ra: Có 4 phép tính $w^{(l)}_{ij}\\delta^{(l)}_j$ ở bước này. Nhưng không cần tính $\\delta_0^{(1)}$, vì nó không được dùng để tính tiếp nên số phép tính cần thiết là 3\n",
    "\n",
    "    Không cần tính $\\delta^{(0)}$ vì nó ở cuối rồi tính chỉ phí.\n",
    "\n",
    "3. Với mỗi trọng số $w^{(l)}_{ij}$, tính $\\frac{\\partial e}{\\partial w^{(l)}_{ij}}$ bằng cách lấy $a$ ở một đầu (nơ-ron $i$ ở tầng $l-1$) nhân với $\\delta$ ở đầu kia (nơ-ron $j$ ở tầng $l$).\n",
    "    + Xét tầng 2: $\\frac{\\partial e}{\\partial w^{(2)}_{ij}}$ Số phép tính $\\delta_j^{(2)}*a_i^{(1)}$ là 4 * 1 = 4\n",
    "    + Xét tầng 1: $\\frac{\\partial e}{\\partial w^{(1)}_{ij}}$ Số phép tính $\\delta_j^{(1)}*a_i^{(0)}$ là 6 * 3 = 18\n",
    "    \n",
    "Tổng là 4 + 18 = 22\n",
    "\n",
    "Vậy tổng số phép tính cần là: 22 + 3 + 22 = 47 gần với đáp án 45 nhất."
   ]
  },
  {
   "cell_type": "markdown",
   "metadata": {
    "deletable": false,
    "nbgrader": {
     "cell_type": "markdown",
     "checksum": "d81773f072cd15e4a27b6cd240a5d990",
     "grade": true,
     "grade_id": "c8",
     "locked": false,
     "points": 1,
     "schema_version": 3,
     "solution": true,
     "task": false
    }
   },
   "source": [
    "<font color = red>**Vậy em chọn câu $[d]\\space 45$**</font>"
   ]
  },
  {
   "cell_type": "markdown",
   "metadata": {},
   "source": [
    "## Câu 9 (1 điểm)"
   ]
  },
  {
   "cell_type": "markdown",
   "metadata": {},
   "source": [
    "Với 36 nút ẩn ta chia thành 18 tầng ẩn (1 -> 18), vì cần lấy số lượng weights nhỏ nhất nên số weight giữa các tầng ẩn chỉ cần 2 là thỏa yêu cầu.\n",
    "- Tầng 0: 10 unit (input) -> tầng ẩn 1 1 unit (unit $x^{(1)}_1$): cần 10 weights\n",
    "- Từ tầng ẩn 1 -> 2, ..., 17 -> 18 ta chỉ cần 2 weights (2 nút ở tầng ẩn trước đến tầng ẩn sau)-> 2 * 17 = 34 weights\n",
    "- Từ tầng ẩn 18 -> tầng output: 2 weights\n",
    "\n",
    "Vậy cần tổng là 10 + 34  + 2= 46 weights"
   ]
  },
  {
   "cell_type": "markdown",
   "metadata": {
    "deletable": false,
    "nbgrader": {
     "cell_type": "markdown",
     "checksum": "e814a2db0b8a53e4fddfee4bcbf405fc",
     "grade": true,
     "grade_id": "c9",
     "locked": false,
     "points": 1,
     "schema_version": 3,
     "solution": true,
     "task": false
    }
   },
   "source": [
    "<font color = red>**Vậy em chọn câu $[a]\\space 46$**</font>"
   ]
  },
  {
   "cell_type": "markdown",
   "metadata": {},
   "source": [
    "## Câu 10 (1 điểm)"
   ]
  },
  {
   "cell_type": "code",
   "execution_count": 12,
   "metadata": {},
   "outputs": [],
   "source": [
    "def maxnumWeightsof_2():\n",
    "    nW = []\n",
    "    for i in range(2, 35):\n",
    "        nW.append(10 * (i - 1) + i * (35 - i) + (36 - i))\n",
    "    return np.max(nW)"
   ]
  },
  {
   "cell_type": "code",
   "execution_count": 13,
   "metadata": {},
   "outputs": [],
   "source": [
    "def maxnumWeightsof_3():\n",
    "    nW = []\n",
    "    for i in range(2, 33):\n",
    "        for j in range(2, 33):\n",
    "            if (36 - i - j >= 2):\n",
    "                nW.append(10*(i-1) + i*(j - 1) + j * (35 - i - j) + (36 - i - j))\n",
    "            else:\n",
    "                break\n",
    "    return np.max(nW)"
   ]
  },
  {
   "cell_type": "code",
   "execution_count": 14,
   "metadata": {},
   "outputs": [],
   "source": [
    "def maxnumWeightsof_4():\n",
    "    nW = []\n",
    "    for i in range(2, 31):\n",
    "        for i1 in range(2, 31):\n",
    "            for i2 in range(2, 31):\n",
    "                if (36 - i - i1- i2 >= 2):\n",
    "                    nW.append(10*(i-1) + i*(i1 - 1) + i1 * (i2 - 1) + i2 * (35 - i - i1 - i2) + (36 - i - i1 -i2))\n",
    "                else:\n",
    "                    break\n",
    "    return np.max(nW)"
   ]
  },
  {
   "cell_type": "code",
   "execution_count": 15,
   "metadata": {},
   "outputs": [],
   "source": [
    "def maxnumWeightsof_5():\n",
    "    nW = []\n",
    "    for i in range(2, 29):\n",
    "        for i1 in range(2, 29):\n",
    "            for i2 in range(2, 29):\n",
    "                for i3 in range(2, 29):\n",
    "                    if (36 - i - i1 - i2 - i3 >= 2):\n",
    "                        nW.append(10*(i-1) + i*(i1 - 1) + i1 * (i2 - 1) + i2*(i3 - 1) + i3 * (35 - i - i1 - i2 - i3) \n",
    "                                  + (36 - i - i1 -i2 - i3))\n",
    "                    else:\n",
    "                        break\n",
    "    return np.max(nW)"
   ]
  },
  {
   "cell_type": "code",
   "execution_count": 16,
   "metadata": {},
   "outputs": [],
   "source": [
    "def maxnumWeightsof_6():\n",
    "    nW = []\n",
    "    for i in range(2, 27):\n",
    "        for i1 in range(2, 27):\n",
    "            for i2 in range(2, 27):\n",
    "                for i3 in range(2, 27):\n",
    "                    for i4 in range(2, 27):\n",
    "                        if (36 - i - i1 - i2 - i3 -i4 >= 2):\n",
    "                            nW.append(10*(i-1) + i*(i1 - 1) + i1 * (i2 - 1) + i2*(i3 - 1) \n",
    "                                      + i3 * (i4 - 1) + i4 * (35 - i - i1 - i2 - i3 - i4) + (36 - i - i1 -i2 - i3 - i4))\n",
    "                        else:\n",
    "                            break\n",
    "    return np.max(nW)"
   ]
  },
  {
   "cell_type": "code",
   "execution_count": 17,
   "metadata": {},
   "outputs": [],
   "source": [
    "def maxnumWeightsof_7():\n",
    "    nW = []\n",
    "    for i in range(2, 25):\n",
    "        for i1 in range(2, 25):\n",
    "            for i2 in range(2, 25):\n",
    "                for i3 in range(2, 25):\n",
    "                    for i4 in range(2, 25):\n",
    "                        for i5 in range(2, 25):\n",
    "                            if (36 - i - i1 - i2 - i3 - i4 - i5 >= 2):\n",
    "                                nW.append(10*(i-1) + i*(i1 - 1) + i1 * (i2 - 1) + i2*(i3 - 1) \n",
    "                                      + i3 * (i4 - 1) + i4 * (i5 - 1) + i5 * (35 - i - i1 - i2 - i3 - i4 - i5) \n",
    "                                      + (36 - i - i1 -i2 - i3 - i4 - i5))\n",
    "                            else:\n",
    "                                break\n",
    "    return np.max(nW)"
   ]
  },
  {
   "cell_type": "code",
   "execution_count": 18,
   "metadata": {},
   "outputs": [
    {
     "name": "stdout",
     "output_type": "stream",
     "text": [
      "Maximum num of weights with 2 hidden layers:  510\n",
      "Maximum num of weights with 3 hidden layers:  467\n",
      "Maximum num of weights with 4 hidden layers:  426\n",
      "Maximum num of weights with 5 hidden layers:  387\n",
      "Maximum num of weights with 6 hidden layers:  350\n",
      "Maximum num of weights with 7 hidden layers:  315\n"
     ]
    }
   ],
   "source": [
    "print(\"Maximum num of weights with 2 hidden layers: \",maxnumWeightsof_2())\n",
    "print(\"Maximum num of weights with 3 hidden layers: \",maxnumWeightsof_3())\n",
    "print(\"Maximum num of weights with 4 hidden layers: \",maxnumWeightsof_4())\n",
    "print(\"Maximum num of weights with 5 hidden layers: \",maxnumWeightsof_5())\n",
    "print(\"Maximum num of weights with 6 hidden layers: \",maxnumWeightsof_6())\n",
    "print(\"Maximum num of weights with 7 hidden layers: \",maxnumWeightsof_7())"
   ]
  },
  {
   "cell_type": "markdown",
   "metadata": {},
   "source": [
    "- Xét mạng có 1 tầng ẩn, số weights là: 10 * 35 + 36 = 386\n",
    "\n",
    "- Xét mạng có 2 tầng ẩn, số weights lớn nhất là: 10 * (22 - 1) + 22 * (14 - 1) + 14 = 510\n",
    "\n",
    "- Xét mạng từ 3 tầng ẩn trở lên, khi đó số nút ẩn ko có weight (+1) sẽ tăng theo nên -> số lượng weight sẽ không tăng lên hơn so với 2 tầng ẩn (như kết quả ở trên số tầng ẩn càng tăng thì số weight càng giảm)\n",
    "\n",
    "$\\Rightarrow$ Vậy số weight lớn nhất mà mạng có thể có là 510 với 2 tầng ẩn"
   ]
  },
  {
   "cell_type": "markdown",
   "metadata": {
    "deletable": false,
    "nbgrader": {
     "cell_type": "markdown",
     "checksum": "41cbf5c6d2b94eeae0a712be2181fef6",
     "grade": true,
     "grade_id": "c10",
     "locked": false,
     "points": 1,
     "schema_version": 3,
     "solution": true,
     "task": false
    }
   },
   "source": [
    "<font color = red>**Vậy em chọn câu $[e]\\space 510$**</font>"
   ]
  }
 ],
 "metadata": {
  "kernelspec": {
   "display_name": "Python 3",
   "language": "python",
   "name": "python3"
  },
  "language_info": {
   "codemirror_mode": {
    "name": "ipython",
    "version": 3
   },
   "file_extension": ".py",
   "mimetype": "text/x-python",
   "name": "python",
   "nbconvert_exporter": "python",
   "pygments_lexer": "ipython3",
   "version": "3.7.4"
  },
  "toc": {
   "base_numbering": 1,
   "nav_menu": {},
   "number_sections": true,
   "sideBar": true,
   "skip_h1_title": false,
   "title_cell": "Table of Contents",
   "title_sidebar": "Contents",
   "toc_cell": false,
   "toc_position": {},
   "toc_section_display": true,
   "toc_window_display": false
  },
  "varInspector": {
   "cols": {
    "lenName": 16,
    "lenType": 16,
    "lenVar": 40
   },
   "kernels_config": {
    "python": {
     "delete_cmd_postfix": "",
     "delete_cmd_prefix": "del ",
     "library": "var_list.py",
     "varRefreshCmd": "print(var_dic_list())"
    },
    "r": {
     "delete_cmd_postfix": ") ",
     "delete_cmd_prefix": "rm(",
     "library": "var_list.r",
     "varRefreshCmd": "cat(var_dic_list()) "
    }
   },
   "types_to_exclude": [
    "module",
    "function",
    "builtin_function_or_method",
    "instance",
    "_Feature"
   ],
   "window_display": false
  }
 },
 "nbformat": 4,
 "nbformat_minor": 4
}
