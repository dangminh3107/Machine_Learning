{
 "cells": [
  {
   "cell_type": "code",
   "execution_count": 2,
   "metadata": {},
   "outputs": [],
   "source": [
    "import numpy as np\n",
    "import pickle\n",
    "import gzip"
   ]
  },
  {
   "cell_type": "code",
   "execution_count": 3,
   "metadata": {},
   "outputs": [],
   "source": [
    "def read_mnist(mnist_file):\n",
    "    \"\"\"\n",
    "    Reads MNIST data.\n",
    "    \n",
    "    Parameters\n",
    "    ----------\n",
    "    mnist_file : string\n",
    "        The name of the MNIST file (e.g., 'mnist.pkl.gz').\n",
    "    \n",
    "    Returns\n",
    "    -------\n",
    "    (train_X, train_Y, val_X, val_Y, test_X, test_Y) : tuple\n",
    "        train_X : numpy array, shape (N=50000, d=784)\n",
    "            Input vectors of the training set.\n",
    "        train_Y: numpy array, shape (N=50000)\n",
    "            Outputs of the training set.\n",
    "        val_X : numpy array, shape (N=10000, d=784)\n",
    "            Input vectors of the validation set.\n",
    "        val_Y: numpy array, shape (N=10000)\n",
    "            Outputs of the validation set.\n",
    "        test_X : numpy array, shape (N=10000, d=784)\n",
    "            Input vectors of the test set.\n",
    "        test_Y: numpy array, shape (N=10000)\n",
    "            Outputs of the test set.\n",
    "    \"\"\"\n",
    "    f = gzip.open(mnist_file, 'rb')\n",
    "    train_data, val_data, test_data = pickle.load(f, encoding='latin1')\n",
    "    f.close()\n",
    "    \n",
    "    train_X, train_Y = train_data\n",
    "    val_X, val_Y = val_data\n",
    "    test_X, test_Y = test_data    \n",
    "    \n",
    "    return train_X, train_Y, val_X, val_Y, test_X, test_Y"
   ]
  },
  {
   "cell_type": "code",
   "execution_count": 4,
   "metadata": {},
   "outputs": [
    {
     "name": "stdout",
     "output_type": "stream",
     "text": [
      "train_X.shape = (50000, 784)\n",
      "train_Y.shape = (50000,)\n",
      "val_X.shape   = (10000, 784)\n",
      "val_Y.shape   = (10000,)\n",
      "test_X.shape  = (10000, 784)\n",
      "test_Y.shape  = (10000,)\n",
      "\n",
      "train_X: min = 0.000, max = 0.996\n",
      "train_Y: min = 0, max = 9\n"
     ]
    }
   ],
   "source": [
    "# Test\n",
    "train_X, train_Y, val_X, val_Y, test_X, test_Y = read_mnist('mnist.pkl.gz')\n",
    "\n",
    "print('train_X.shape =', train_X.shape)\n",
    "print('train_Y.shape =', train_Y.shape)\n",
    "print('val_X.shape   =', val_X.shape)\n",
    "print('val_Y.shape   =', val_Y.shape)\n",
    "print('test_X.shape  =', test_X.shape)\n",
    "print('test_Y.shape  =', test_Y.shape)\n",
    "\n",
    "print('\\ntrain_X: min = %.3f, max = %.3f' %(train_X.min(), train_X.max()))\n",
    "print('train_Y: min = %d, max = %d' %(train_Y.min(), train_Y.max()))"
   ]
  },
  {
   "cell_type": "markdown",
   "metadata": {},
   "source": [
    "**Linear Kernel**"
   ]
  },
  {
   "cell_type": "code",
   "execution_count": 5,
   "metadata": {},
   "outputs": [],
   "source": [
    "from sklearn.svm import SVC"
   ]
  },
  {
   "cell_type": "code",
   "execution_count": 6,
   "metadata": {},
   "outputs": [],
   "source": [
    "def SVC_LinearKernel(train_X, train_Y, val_X, val_Y, c):\n",
    "    \"\"\"\n",
    "    Input:\n",
    "        train_X, train_Y: tập dữ liệu training\n",
    "        val_X, val_Y: tập dữ liệu validation\n",
    "        c: siêu tham số C\n",
    "    Output:\n",
    "        err_train: độ lỗi tập training ứng với siêu tham số c\n",
    "        err_val: độ lỗi tập validation ứng với siêu tham số c\n",
    "    \"\"\"\n",
    "    classify = SVC(kernel = 'linear', C = c)\n",
    "    %time classify.fit(train_X, train_Y)\n",
    "    train_score = classify.score(train_X, train_Y)\n",
    "    val_score = classify.score(val_X, val_Y)\n",
    "    err_train = 1 - train_score\n",
    "    err_val = 1 - val_score\n",
    "    print(\"Training score: \",train_score)\n",
    "    print(\"Validation score: \",val_score)\n",
    "    return err_train, err_val"
   ]
  },
  {
   "cell_type": "code",
   "execution_count": 7,
   "metadata": {},
   "outputs": [],
   "source": [
    "def SVM_LinearKernel(C):\n",
    "    \"\"\"\n",
    "    Input:\n",
    "        C: tập siêu tham số C\n",
    "    Output:\n",
    "        lserr_train: danh sách độ lỗi trên tập training với c tương ứng\n",
    "        lserr_val: danh sách độ lỗi trên tập validaiton với c tương ứng\n",
    "    \"\"\"\n",
    "    lserr_train = []\n",
    "    lserr_val = []\n",
    "    err_train = 0\n",
    "    err_val = 0\n",
    "    for c in C:\n",
    "        print(\"C= \",c)\n",
    "        err_train, err_val = SVC_LinearKernel(train_X, train_Y, val_X, val_Y, c)\n",
    "        print(\"Training Error: \", err_train)\n",
    "        print(\"Validation Error: \", err_val)\n",
    "        lserr_train.append(err_train)\n",
    "        lserr_val.append(err_val)\n",
    "    return lserr_train,lserr_val"
   ]
  },
  {
   "cell_type": "code",
   "execution_count": 7,
   "metadata": {},
   "outputs": [
    {
     "name": "stdout",
     "output_type": "stream",
     "text": [
      "C=  0.01\n",
      "Wall time: 6min 29s\n",
      "Training score:  0.94406\n",
      "Validation score:  0.9437\n",
      "Training Error:  0.05593999999999999\n",
      "Validation Error:  0.05630000000000002\n",
      "C=  0.05\n",
      "Wall time: 4min 46s\n",
      "Training score:  0.95424\n",
      "Validation score:  0.948\n",
      "Training Error:  0.04576000000000002\n",
      "Validation Error:  0.052000000000000046\n",
      "C=  0.1\n",
      "Wall time: 4min 46s\n",
      "Training score:  0.95812\n",
      "Validation score:  0.9481\n",
      "Training Error:  0.04188000000000003\n",
      "Validation Error:  0.051899999999999946\n",
      "C=  0.11\n",
      "Wall time: 4min 39s\n",
      "Training score:  0.95866\n",
      "Validation score:  0.9477\n",
      "Training Error:  0.04134000000000004\n",
      "Validation Error:  0.05230000000000001\n",
      "C=  0.12\n",
      "Wall time: 4min 30s\n",
      "Training score:  0.95918\n",
      "Validation score:  0.9472\n",
      "Training Error:  0.04081999999999997\n",
      "Validation Error:  0.05279999999999996\n",
      "C=  0.2\n",
      "Wall time: 4min 53s\n",
      "Training score:  0.96248\n",
      "Validation score:  0.9463\n",
      "Training Error:  0.03752\n",
      "Validation Error:  0.05369999999999997\n",
      "C=  0.5\n",
      "Wall time: 5min 23s\n",
      "Training score:  0.96854\n",
      "Validation score:  0.9445\n",
      "Training Error:  0.031460000000000043\n",
      "Validation Error:  0.055499999999999994\n",
      "C=  0.8\n",
      "Wall time: 5min 54s\n",
      "Training score:  0.97132\n",
      "Validation score:  0.9439\n",
      "Training Error:  0.02868000000000004\n",
      "Validation Error:  0.05610000000000004\n",
      "C=  0.9\n",
      "Wall time: 5min 56s\n",
      "Training score:  0.97204\n",
      "Validation score:  0.9431\n",
      "Training Error:  0.027959999999999985\n",
      "Validation Error:  0.05689999999999995\n",
      "C=  1\n",
      "Wall time: 6min 1s\n",
      "Training score:  0.97246\n",
      "Validation score:  0.9423\n",
      "Training Error:  0.02754000000000001\n",
      "Validation Error:  0.057699999999999974\n",
      "C=  10\n",
      "Wall time: 8min 12s\n",
      "Training score:  0.98308\n",
      "Validation score:  0.9284\n",
      "Training Error:  0.016920000000000046\n",
      "Validation Error:  0.0716\n",
      "C=  100\n",
      "Wall time: 23min 20s\n",
      "Training score:  0.987\n",
      "Validation score:  0.9223\n",
      "Training Error:  0.013000000000000012\n",
      "Validation Error:  0.07769999999999999\n",
      "C=  1000\n",
      "Wall time: 3h 4min 5s\n",
      "Training score:  0.98866\n",
      "Validation score:  0.9231\n",
      "Training Error:  0.011340000000000017\n",
      "Validation Error:  0.07689999999999997\n"
     ]
    }
   ],
   "source": [
    "C = [0.01, 0.05, 0.1, 0.11, 0.12, 0.2, 0.5, 0.8, 0.9, 1, 10, 100, 1000]\n",
    "list_ET1 = []\n",
    "list_EV1 = []\n",
    "list_ET1, listEV1 = SVM_LinearKernel(C)"
   ]
  },
  {
   "cell_type": "markdown",
   "metadata": {},
   "source": [
    "**RBF Kernel**"
   ]
  },
  {
   "cell_type": "code",
   "execution_count": 8,
   "metadata": {},
   "outputs": [],
   "source": [
    "def SVC_RBFKernel(train_X, train_Y, val_X, val_Y, c = 1, gamma = 0.001, max_iter = -1):\n",
    "    \"\"\"\n",
    "    Input:\n",
    "        train_X, train_Y: tập dữ liệu training\n",
    "        val_X, val_Y: tập dữ liệu validation\n",
    "        c: siêu tham số C\n",
    "        gamma: siêu tham số gamma \n",
    "        max_iter: giới hạn số vòng lặp\n",
    "    Output:\n",
    "        err_train: độ lỗi tập training ứng với siêu tham số c\n",
    "        err_val: độ lỗi tập validation ứng với siêu tham số c\n",
    "    \"\"\"\n",
    "    classify = SVC(kernel = 'rbf', C = c, gamma = gamma, max_iter = max_iter)\n",
    "    %time classify.fit(train_X, train_Y)\n",
    "    train_score = classify.score(train_X, train_Y)\n",
    "    val_score = classify.score(val_X, val_Y)\n",
    "    err_train = 1 - train_score\n",
    "    err_val = 1 - val_score\n",
    "    print(\"Training score: \",train_score)\n",
    "    print(\"Validation score: \",val_score)\n",
    "    return err_train, err_val"
   ]
  },
  {
   "cell_type": "code",
   "execution_count": 9,
   "metadata": {},
   "outputs": [],
   "source": [
    "def SVM_RBFKernel(C, Gamma, max_iter = -1):\n",
    "    \"\"\"\n",
    "    Input:\n",
    "        C: tập siêu tham số C\n",
    "        Gamma: tập siêu tham số gamma\n",
    "        max_iter: giới hạn số vòng lặp\n",
    "    Output:\n",
    "        lserr_train: danh sách độ lỗi trên tập training ứng với c và gamma tương ứng.\n",
    "        lserr_val: danh sách độ lỗi trên tập validation ứng với c và gamma tương ứng.\n",
    "    \"\"\"\n",
    "    lserr_train = []\n",
    "    lserr_val = []\n",
    "    err_train = 0\n",
    "    err_val = 0\n",
    "    for c in C:\n",
    "        for g in Gamma:\n",
    "            print(\"C= \",c,\"gamma = \",g)\n",
    "            err_train, err_val = SVC_RBFKernel(train_X, train_Y, val_X, val_Y, c, g, max_iter)\n",
    "            print(\"Training Error: \", err_train)\n",
    "            print(\"Validation Error: \", err_val)\n",
    "            lserr_train.append(err_train)\n",
    "            lserr_val.append(err_val)\n",
    "    return lserr_train,lserr_val"
   ]
  },
  {
   "cell_type": "code",
   "execution_count": null,
   "metadata": {},
   "outputs": [
    {
     "name": "stdout",
     "output_type": "stream",
     "text": [
      "C=  0.1 gamma =  0.001\n",
      "Wall time: 27min 33s\n",
      "Training score:  0.90176\n",
      "Validation score:  0.9139\n",
      "Training Error:  0.09824\n",
      "Validation Error:  0.08609999999999995\n",
      "C=  0.1 gamma =  0.01\n",
      "Wall time: 13min 5s\n",
      "Training score:  0.95298\n",
      "Validation score:  0.9578\n",
      "Training Error:  0.04701999999999995\n",
      "Validation Error:  0.042200000000000015\n",
      "C=  0.1 gamma =  0.1\n",
      "Wall time: 1h 8min 31s\n",
      "Training score:  0.71048\n",
      "Validation score:  0.6875\n",
      "Training Error:  0.28952\n",
      "Validation Error:  0.3125\n",
      "C=  1 gamma =  0.001\n",
      "Wall time: 10min 56s\n",
      "Training score:  0.93578\n",
      "Validation score:  0.9411\n",
      "Training Error:  0.06422000000000005\n",
      "Validation Error:  0.05889999999999995\n",
      "C=  1 gamma =  0.01\n",
      "Wall time: 5min 57s\n",
      "Training score:  0.98474\n",
      "Validation score:  0.9777\n",
      "Training Error:  0.015260000000000051\n",
      "Validation Error:  0.022299999999999986\n",
      "C=  1 gamma =  0.1\n",
      "Wall time: 1h 46min 36s\n"
     ]
    }
   ],
   "source": [
    "C = [0.1, 1, 10]\n",
    "Gamma = [0.001, 0.01, 0.1]\n",
    "list_ET2 = []\n",
    "list_EV2 = []\n",
    "list_ET2, list_EV2 = SVM_RBFKernel(C, Gamma, max_iter = -1)"
   ]
  },
  {
   "cell_type": "code",
   "execution_count": null,
   "metadata": {},
   "outputs": [
    {
     "name": "stdout",
     "output_type": "stream",
     "text": [
      "C=  2 gamma =  0.01\n",
      "Wall time: 4min 59s\n",
      "Training score:  0.99212\n",
      "Validation score:  0.9812\n",
      "Training Error:  0.007879999999999998\n",
      "Validation Error:  0.01880000000000004\n",
      "C=  3 gamma =  0.01\n"
     ]
    }
   ],
   "source": [
    "C = [2, 3, 4, 5, 6, 7, 8, 9]\n",
    "Gamma = [0.01]\n",
    "list_ET3 = []\n",
    "list_EV3 = []\n",
    "list_ET3, list_EV3 = SVM_RBFKernel(C, Gamma, max_iter = -1)"
   ]
  },
  {
   "cell_type": "markdown",
   "metadata": {},
   "source": [
    "**Linear Kernel**"
   ]
  },
  {
   "cell_type": "markdown",
   "metadata": {},
   "source": [
    "**Bảng kết quả thu được**"
   ]
  },
  {
   "cell_type": "markdown",
   "metadata": {},
   "source": [
    "| C | $E_{Train}$ | $E_{Val}$ | Times |\n",
    "| --- | --- | --- | --- |\n",
    "| 0.01 | 0.0559 | 0.0563 | 6min29s |\n",
    "| 0.05 | 0.0458 | 0.052 | 4min46s |\n",
    "|0.1 |0.0419 | 0.0519 | 4min46s |\n",
    "|0.11 |0.0413 | 0.0523 | 4min39s |\n",
    "|0.12 |0.0408 | 0.0528 | 4min30s |\n",
    "|0.2 |0.0375 | 0.0537 | 4min53s |\n",
    "|0.5 |0.0315 | 0.0555 | 5min23s |\n",
    "|0.8 |0.0287 | 0.0561 | 5min54s |\n",
    "|0.9 |0.028 | 0.0569 | 5min56s |\n",
    "|1 |0.0275 | 0.0577 | 6min1s |\n",
    "|10 |0.0169 | 0.0716 | 8min12s |\n",
    "|100 | 0.013 | 0.0777 | 23min20s |\n",
    "|1000 | 0.0113 | 0.0769 | 3h4min5s |"
   ]
  },
  {
   "cell_type": "code",
   "execution_count": 14,
   "metadata": {},
   "outputs": [
    {
     "name": "stdout",
     "output_type": "stream",
     "text": [
      "Wall time: 4min 47s\n",
      "Training score:  0.95812\n",
      "Validation score:  0.9463\n"
     ]
    },
    {
     "data": {
      "text/plain": [
       "(0.04188000000000003, 0.05369999999999997)"
      ]
     },
     "execution_count": 14,
     "metadata": {},
     "output_type": "execute_result"
    }
   ],
   "source": [
    "#Chay voi tap test\n",
    "SVC_LinearKernel(train_X, train_Y, test_X, test_Y, c = 0.1)"
   ]
  },
  {
   "cell_type": "code",
   "execution_count": 11,
   "metadata": {},
   "outputs": [
    {
     "data": {
      "image/png": "[encoded data removed]",
      "text/plain": [
       "<Figure size 432x288 with 2 Axes>"
      ]
     },
     "metadata": {
      "needs_background": "light"
     },
     "output_type": "display_data"
    }
   ],
   "source": [
    "import matplotlib.pyplot as plt\n",
    "#Vẽ đồ thị biểu diễn bảng kết quả\n",
    "ET1 = [0.0559, 0.0458, 0.0419, 0.0413, 0.0408, 0.0375, 0.0315, 0.0287, 0.028, 0.0275, 0.0169, 0.013, 0.0113]\n",
    "EV1 = [0.0563, 0.052, 0.0519, 0.0523, 0.0528, 0.0537, 0.0555, 0.0561, 0.0569, 0.0577, 0.0716, 0.0777, 0.0769]\n",
    "ar = np.array([389, 286, 286, 279, 270, 293, 323, 354, 356, 361, 492, 1400, 11045])\n",
    "xlabelsinC = np.array([0, 0.01, 0.1, 0.12, 0.5, 0.9, 10, 1000])\n",
    "X = np.array(ET1)\n",
    "Y = np.array(EV1)\n",
    "fig, ax = plt.subplots()\n",
    "plt.title('Using Linear Kernel')\n",
    "l1 = ax.plot(X,'v--', color = 'r', label = r'$E_{Train}$', markersize = 10)\n",
    "l2 = ax.plot(Y,'s--', color = 'b', label = r'$E_{Val}$', markersize = 10)\n",
    "ax2 = ax.twinx()\n",
    "l3 = ax2.plot(ar, 'd--', color = 'grey', label = 'Times')\n",
    "lt = l1 + l2 + l3\n",
    "labs = [l.get_label() for l in lt]\n",
    "ax.legend(lt, labs, loc=0)\n",
    "ax.set_xlabel('C', fontsize = 20)\n",
    "ax.set_ylabel('Error', fontsize = 20)\n",
    "ax.set_xticklabels(xlabelsinC)\n",
    "ax2.set_ylabel('Times(s)', fontsize = 20)\n",
    "plt.show()"
   ]
  },
  {
   "cell_type": "markdown",
   "metadata": {},
   "source": [
    "**RBF Kernel**"
   ]
  },
  {
   "cell_type": "markdown",
   "metadata": {},
   "source": [
    "**Bảng kết quả thu được**"
   ]
  },
  {
   "cell_type": "markdown",
   "metadata": {},
   "source": [
    "| C | $\\gamma$ |$E_{Train}$ | $E_{Val}$ | Times |\n",
    "| --- | --- | --- | --- | --- |\n",
    "| 0.1 | 0.001 | 0.09824 | 0.0861 | 27min33s|\n",
    "| 0.1 | 0.01 | 0.04702 | 0.0422 | 13min5s |\n",
    "| 0.1 | 0.1 | 0.28952 | 0.3125 | 1h8min31s |\n",
    "| 1 | 0.001 | 6.422e-02 | 0.0589 | 10min56s |\n",
    "| 1 | 0.01 | 1.526e-02 | 0.0223 | 5min57s |\n",
    "| 1 | 0.1 | 4.000e-05 | 0.448 | 1h46min21s |\n",
    "| 2 | 0.01 | 0.00788 | 0.0188 | 5min6s |\n",
    "| 3 | 0.01 | 0.00476 | 0.0182 | 4min54s |\n",
    "| 4 | 0.01 | 0.0029\t| 0.0174 | 4min50s |\n",
    "| 5\t| 0.01 | 0.00182 | 0.0172 | 4min49s |\n",
    "| 6\t| 0.01 | 0.00128 | 0.017 | 4min47s |\n",
    "| 7\t| 0.01 | 0.00108 | 0.0173 | 4min48s |\n",
    "| 8\t| 0.01 | 0.00086 | 0.0171 | 4min49s |\n",
    "| 9\t| 0.01 | 0.00074 | 0.0168 | 4min52s |\n",
    "| 10 | 0.001 | 0.03794 | 0.0408 | 5min51s |\n",
    "| 10 | 0.01 | 0.00058 | 0.0165 | 4min55s |\n",
    "| 10 | 0.1 | 0 | 0.0434 | 1h49min12s |\n"
   ]
  },
  {
   "cell_type": "code",
   "execution_count": 16,
   "metadata": {},
   "outputs": [
    {
     "name": "stdout",
     "output_type": "stream",
     "text": [
      "Wall time: 5min\n",
      "Training score:  0.99942\n",
      "Validation score:  0.982\n"
     ]
    },
    {
     "data": {
      "text/plain": [
       "(0.0005800000000000249, 0.018000000000000016)"
      ]
     },
     "execution_count": 16,
     "metadata": {},
     "output_type": "execute_result"
    }
   ],
   "source": [
    "#Chay voi tap test\n",
    "SVC_RBFKernel(train_X, train_Y, test_X, test_Y, c = 10, gamma = 0.01, max_iter = -1)"
   ]
  },
  {
   "cell_type": "code",
   "execution_count": 12,
   "metadata": {},
   "outputs": [
    {
     "data": {
      "image/png": "[encoded data removed]",
      "text/plain": [
       "<Figure size 432x288 with 2 Axes>"
      ]
     },
     "metadata": {
      "needs_background": "light"
     },
     "output_type": "display_data"
    }
   ],
   "source": [
    "#Vẽ đồ thị biểu diễn bảng kết quả\n",
    "lsET = [0.04702, 0.01526, 0.00788, 0.00476, 0.0029, 0.00182, 0.00128, 0.00108, 0.00086, 0.00074, 0.00058]\n",
    "lsEV = [0.0422, 0.0223, 0.0188, 0.0182, 0.0174, 0.0172, 0.017, 0.0173, 0.0171, 0.0168, 0.0165]\n",
    "Ga = [0.01, 0.01, 0.01, 0.01, 0.01, 0.01, 0.01, 0.01, 0.01, 0.01, 0.01]\n",
    "ar = np.array([785, 357, 306, 294, 290, 289, 287, 288, 289, 292, 295])\n",
    "xlabelsinC = np.array([0.1, 1, 2, 3, 4, 5, 6, 7, 8, 9, 10])\n",
    "X = np.array(lsET)\n",
    "Y = np.array(lsEV)\n",
    "fig, ax = plt.subplots()\n",
    "plt.title('Using RBF Kernel')\n",
    "l1 = ax.plot(X,'v--', color = 'r', label = r'$E_{Train}$', markersize = 10)\n",
    "l2 = ax.plot(Y,'s--', color = 'b', label = r'$E_{Val}$', markersize = 10)\n",
    "ax2 = ax.twinx()\n",
    "l3 = ax2.plot(ar, 'd--', color = 'grey', label = 'Times')\n",
    "lt = l1 + l2 + l3 #+ l4\n",
    "labs = [l.get_label() for l in lt]\n",
    "ax.legend(lt, labs, loc=0)\n",
    "ax.set_xlabel('C, $\\gamma = 0.01$', fontsize = 20)\n",
    "ax.set_ylabel('Error', fontsize = 20)\n",
    "ax.set_xticks(xlabelsinC)\n",
    "ax2.set_ylabel('Times(s)', fontsize = 20)\n",
    "plt.show()"
   ]
  }
 ],
 "metadata": {
  "kernelspec": {
   "display_name": "Python 3",
   "language": "python",
   "name": "python3"
  },
  "language_info": {
   "codemirror_mode": {
    "name": "ipython",
    "version": 3
   },
   "file_extension": ".py",
   "mimetype": "text/x-python",
   "name": "python",
   "nbconvert_exporter": "python",
   "pygments_lexer": "ipython3",
   "version": "3.7.4"
  }
 },
 "nbformat": 4,
 "nbformat_minor": 2
}
